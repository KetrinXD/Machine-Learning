{
 "cells": [
  {
   "cell_type": "code",
   "execution_count": 3,
   "id": "76604282",
   "metadata": {
    "scrolled": true
   },
   "outputs": [],
   "source": [
    "import pandas as pd\n",
    "import seaborn as sns"
   ]
  },
  {
   "cell_type": "code",
   "execution_count": 4,
   "id": "647eef99",
   "metadata": {},
   "outputs": [],
   "source": [
    "sns.set(rc={'figure.figsize': (11.7, 8.27)})"
   ]
  },
  {
   "cell_type": "code",
   "execution_count": 5,
   "id": "d2b96a5f",
   "metadata": {},
   "outputs": [],
   "source": [
    "def round_to_2(x):\n",
    "    \"\"\"\n",
    "    Принимает число и возвращает результат его округления\n",
    "    до 2 знаков после запятой.\n",
    "    \n",
    "    Аргументы:\n",
    "        x: Число.\n",
    "        \n",
    "    Возвращаемое значение:\n",
    "        Результат округления числа до 2 знаков после запятой.\n",
    "    \"\"\"\n",
    "    \n",
    "    return round(float(x), 2)"
   ]
  },
  {
   "cell_type": "code",
   "execution_count": 6,
   "id": "1ac66575",
   "metadata": {},
   "outputs": [],
   "source": [
    "def custom_compare(x, y):\n",
    "    if str(x) != str(y):\n",
    "        raise RuntimeError(f'Ожидаемое значение: {y}. Фактическое: {x}')"
   ]
  },
  {
   "cell_type": "markdown",
   "id": "126499b4",
   "metadata": {},
   "source": [
    "# Линейная регрессия с двумя параметрами"
   ]
  },
  {
   "cell_type": "code",
   "execution_count": 7,
   "id": "6a3f9532",
   "metadata": {},
   "outputs": [],
   "source": [
    "def two_parameters_linear_regression_solution(data, x_name, y_name):\n",
    "    \"\"\"\n",
    "    На основе данных из таблицы data с помощью МНК строит модель линейной регрессии,\n",
    "    которая по фактору x_name предсказывает значение фактора y_name.\n",
    "\n",
    "    Аргументы:\n",
    "        data: Таблица с данными.\n",
    "        x_name: Название колонки в таблице, на основе которой нужно научиться\n",
    "                предсказывать значение целевой характеристики.\n",
    "        y_name: Название колонки в таблице, которая содержит значения\n",
    "                предсказываемой характеристики.\n",
    "\n",
    "    Возвращаемое значение:\n",
    "        Возвращает пару параметров модели: свободный коэффициент w0, вес w1 перед фактором x_name.\n",
    "\n",
    "        Значение каждого параметра должно быть округлено до 2 знаков после запятой с помощью функции `round_to_2`.\n",
    "    \"\"\"\n",
    "    xs, ys = data[x_name], data[y_name]\n",
    "    y_avg = ys.mean()\n",
    "    x_avg = xs.mean()\n",
    "    w1 = sum((xs - x_avg)*(ys-y_avg))/sum((xs-x_avg)**2)\n",
    "    w0 = y_avg - w1*x_avg\n",
    "    return round_to_2(w0), round_to_2(w1)"
   ]
  },
  {
   "cell_type": "code",
   "execution_count": 8,
   "id": "0d2f3076",
   "metadata": {},
   "outputs": [],
   "source": [
    "def two_parameters_linear_regression_test():\n",
    "    tbl_example_1 = [[1, 1],\n",
    "                     [2, 2],\n",
    "                     [3, 3],\n",
    "                     [4, 4],\n",
    "                     [5, 5]]\n",
    "    col_names_example_1 = ['x', 'y']\n",
    "    data_example_1 = pd.DataFrame(data=tbl_example_1, columns=col_names_example_1)\n",
    "    \n",
    "    res_example_1 = (0.0, 1.0)\n",
    "    \n",
    "    custom_compare(two_parameters_linear_regression_solution(data_example_1,\n",
    "                                                             col_names_example_1[0], \n",
    "                                                             col_names_example_1[1]),\n",
    "                   res_example_1)\n",
    "    \n",
    "    tbl_example_2 = [[1.1, 1, 0.21],\n",
    "                     [-3.4, 2, 0.19],\n",
    "                     [2.7, 3, 0.39],\n",
    "                     [2.8, 4, 0.22],\n",
    "                     [0.31, 5, -0.1]]\n",
    "    col_names_example_2 = ['x', 'extra', 'y']\n",
    "    data_example_2 = pd.DataFrame(data=tbl_example_2, columns=col_names_example_2)\n",
    "\n",
    "    res_example_2 = (0.17, 0.02)\n",
    "    \n",
    "    custom_compare(two_parameters_linear_regression_solution(data_example_2,\n",
    "                                                             col_names_example_2[0], \n",
    "                                                             col_names_example_2[2]),\n",
    "                   res_example_2)\n",
    "\n",
    "    print('Тест прошёл успешно!')"
   ]
  },
  {
   "cell_type": "code",
   "execution_count": 9,
   "id": "a4feecf3",
   "metadata": {},
   "outputs": [
    {
     "name": "stdout",
     "output_type": "stream",
     "text": [
      "Тест прошёл успешно!\n"
     ]
    }
   ],
   "source": [
    "two_parameters_linear_regression_test()"
   ]
  },
  {
   "cell_type": "markdown",
   "id": "26143b7c",
   "metadata": {},
   "source": [
    "# Основные понятия линейной алгебры"
   ]
  },
  {
   "cell_type": "code",
   "execution_count": 44,
   "id": "7851edaa",
   "metadata": {},
   "outputs": [],
   "source": [
    "def get_col(matrix, i):\n",
    "    return [col[i] for col in matrix]\n",
    "\n",
    "\n",
    "def skal(v1, v2):\n",
    "    v1,v2 = list(v1),list(v2)\n",
    "    return round_to_2(sum([v1[i] * v2[i] for i in range(len(v1))]))"
   ]
  },
  {
   "cell_type": "code",
   "execution_count": 40,
   "id": "4cac75b5",
   "metadata": {},
   "outputs": [],
   "source": [
    "def matrix_multiplication_solution(matrix_a, matrix_b):\n",
    "    n1, m1 = len(matrix_a), len(matrix_a[0])\n",
    "    n2, m2 = len(matrix_b), 1 if type(matrix_b[0]) is not type([]) else len(matrix_b[0])\n",
    "    if n2 != m1:\n",
    "        return -1\n",
    "    if type(matrix_b[0]) is not type([]):\n",
    "        result = [0 * m2 for i in range(n1)]\n",
    "        for i in range(n1):\n",
    "            for j in range(m2):\n",
    "                v1 = matrix_a[i]\n",
    "                value = skal(v1, matrix_b)\n",
    "                result[i] = value\n",
    "    else:\n",
    "        result = [[0] * m2 for i in range(n1)]\n",
    "        for i in range(n1):\n",
    "            for j in range(m2):\n",
    "                v2 = get_col(matrix_b, j)\n",
    "                v1 = matrix_a[i]\n",
    "                value = skal(v1, v2)\n",
    "                result[i][j] = value\n",
    "    return result"
   ]
  },
  {
   "cell_type": "code",
   "execution_count": 11,
   "id": "04a5935a",
   "metadata": {},
   "outputs": [],
   "source": [
    "def matrix_multiplication_test():\n",
    "    matrix_a_example_1 = [[1, 2],\n",
    "                          [-1, 0]]\n",
    "    matrix_b_example_1 = [[-1, 1],\n",
    "                          [3, -2]]\n",
    "    \n",
    "    res_example_1 = [[5.0, -3.0],\n",
    "                     [1.0, -1.0]]\n",
    "    \n",
    "    custom_compare(matrix_multiplication_solution(matrix_a_example_1, matrix_b_example_1),\n",
    "                   res_example_1)\n",
    "    \n",
    "    matrix_a_example_2 = [[1, 2],\n",
    "                          [-1, 0]]\n",
    "    matrix_b_example_2 = [[-1, 1],\n",
    "                          [3, -2],\n",
    "                          [0.1, 2]]\n",
    "    \n",
    "    res_example_2 = -1\n",
    "    \n",
    "    custom_compare(matrix_multiplication_solution(matrix_a_example_2, matrix_b_example_2),\n",
    "                   res_example_2)\n",
    "    \n",
    "    matrix_a_example_3 = [[0.7, 3.9],\n",
    "                          [-2.3, 5.1],\n",
    "                          [7.8, 0]]\n",
    "    matrix_b_example_3 = [[-1, 3.78, 1],\n",
    "                          [2.1, -8, 2]]\n",
    "    \n",
    "    res_example_3 = [[7.49, -28.55, 8.5],\n",
    "                     [13.01, -49.49, 7.9],\n",
    "                     [-7.8, 29.48, 7.8]]\n",
    "    \n",
    "    custom_compare(matrix_multiplication_solution(matrix_a_example_3, matrix_b_example_3),\n",
    "                   res_example_3)\n",
    "\n",
    "    print('Тест прошёл успешно!')"
   ]
  },
  {
   "cell_type": "code",
   "execution_count": 18,
   "id": "a4958c4b",
   "metadata": {
    "scrolled": false
   },
   "outputs": [
    {
     "name": "stdout",
     "output_type": "stream",
     "text": [
      "Тест прошёл успешно!\n"
     ]
    }
   ],
   "source": [
    "matrix_multiplication_test()"
   ]
  },
  {
   "cell_type": "code",
   "execution_count": 19,
   "id": "a24034c8",
   "metadata": {},
   "outputs": [],
   "source": [
    "def transpose_matrix_solution(matrix):\n",
    "    \"\"\"\n",
    "    Производит транспонирование переданной матрицы.\n",
    "\n",
    "    Аргументы:\n",
    "        matrix: Матрица, которую нужно транспонировать.\n",
    "\n",
    "    Возвращаемое значение:\n",
    "        Возвращает матрицу, которая является результатом транспонирования матрицы-аргумента.\n",
    "    \"\"\"\n",
    "    n,m = len(matrix),len(matrix[0])\n",
    "    t_matrix = [[0]*n for i in range(m)]\n",
    "    for i in range(n):\n",
    "        v = matrix[i]\n",
    "        for j in range(m):\n",
    "            t_matrix[j][i] = v[j]\n",
    "    return t_matrix"
   ]
  },
  {
   "cell_type": "code",
   "execution_count": 20,
   "id": "d57b4363",
   "metadata": {},
   "outputs": [],
   "source": [
    "def transpose_matrix_test():\n",
    "    matrix_example_1 = [[1, 2, 3],\n",
    "                        [-1, 3, 1]]\n",
    "    \n",
    "    res_example_1 = [[1, -1],\n",
    "                     [2, 3],\n",
    "                     [3, 1]]\n",
    "    \n",
    "    custom_compare(transpose_matrix_solution(matrix_example_1), res_example_1)\n",
    "    \n",
    "    matrix_example_2 = [[0, 22, 3, 6],\n",
    "                        [5, 4, -1, 7],\n",
    "                        [-7, 82, 31, 8],\n",
    "                        [38, -49, 4, 1]]\n",
    "    \n",
    "    res_example_2 = [[0, 5, -7, 38],\n",
    "                     [22, 4, 82, -49],\n",
    "                     [3, -1, 31, 4],\n",
    "                     [6, 7, 8, 1]]\n",
    "    \n",
    "    custom_compare(transpose_matrix_solution(matrix_example_2), res_example_2)\n",
    "\n",
    "    print('Тест прошёл успешно!')"
   ]
  },
  {
   "cell_type": "code",
   "execution_count": 21,
   "id": "05f37fce",
   "metadata": {},
   "outputs": [
    {
     "name": "stdout",
     "output_type": "stream",
     "text": [
      "Тест прошёл успешно!\n"
     ]
    }
   ],
   "source": [
    "transpose_matrix_test()"
   ]
  },
  {
   "cell_type": "markdown",
   "id": "e121ae5e",
   "metadata": {},
   "source": [
    "# Множественная линейная регрессия"
   ]
  },
  {
   "cell_type": "code",
   "execution_count": null,
   "id": "9c79f86e",
   "metadata": {},
   "outputs": [],
   "source": [
    "# Установка библиотеки numpy\n",
    "!pip3 install numpy"
   ]
  },
  {
   "cell_type": "code",
   "execution_count": 22,
   "id": "a623ed7b",
   "metadata": {},
   "outputs": [],
   "source": [
    "import numpy as np"
   ]
  },
  {
   "cell_type": "code",
   "execution_count": 51,
   "id": "5dddf284",
   "metadata": {},
   "outputs": [],
   "source": [
    "def get_col(matrix, i):\n",
    "    return [col[i] for col in matrix]\n",
    "\n",
    "def skal(v1, v2):\n",
    "    v1,v2 = np.array(v1),np.array(v2)\n",
    "    return round_to_2(sum(v1[i] * v2[i]))\n",
    "    \n",
    "def matrix_multiplication_solution(matrix_a, matrix_b):\n",
    "    n1, m1 = len(matrix_a), len(matrix_a[0])\n",
    "    n2, m2 = len(matrix_b), 1 if type(matrix_b[0]) is not type([]) else len(matrix_b[0])\n",
    "    if n2 != m1:\n",
    "        return -1\n",
    "    if type(matrix_b[0]) is not type([]):\n",
    "        result = [0 * m2 for i in range(n1)]\n",
    "        for i in range(n1):\n",
    "            for j in range(m2):\n",
    "                v1 = matrix_a[i]\n",
    "                value = skal(v1, matrix_b)\n",
    "                result[i] = value\n",
    "    else:\n",
    "        result = [[0] * m2 for i in range(n1)]\n",
    "        for i in range(n1):\n",
    "            for j in range(m2):\n",
    "                v2 = get_col(matrix_b, j)\n",
    "                v1 = matrix_a[i]\n",
    "                value = skal(v1, v2)\n",
    "                result[i][j] = value\n",
    "    return result"
   ]
  },
  {
   "cell_type": "code",
   "execution_count": 52,
   "id": "1eeb5162",
   "metadata": {},
   "outputs": [],
   "source": [
    "def round_to_2(x):\n",
    "    return round(x, 2)\n",
    "\n",
    "def get_col(matrix, i):\n",
    "    return [col[i] for col in matrix]\n",
    "\n",
    "\n",
    "def skal(v1, v2):\n",
    "    v1, v2 = np.array(v1), np.array(v2)\n",
    "    return round_to_2(sum(v1 * v2))\n",
    "\n",
    "\n",
    "def matrix_multiplication_solution(matrix_a, matrix_b):\n",
    "    n1, m1 = len(matrix_a), len(matrix_a[0])\n",
    "    n2, m2 = len(matrix_b), 1 if type(matrix_b[0]) is not type([]) else len(matrix_b[0])\n",
    "    if n2 != m1:\n",
    "        return -1\n",
    "    if type(matrix_b[0]) is not type([]):\n",
    "        result = [0 * m2 for i in range(n1)]\n",
    "        for i in range(n1):\n",
    "            for j in range(m2):\n",
    "                v1 = matrix_a[i]\n",
    "                value = skal(v1, matrix_b)\n",
    "                result[i] = value\n",
    "    else:\n",
    "        result = [[0] * m2 for i in range(n1)]\n",
    "        for i in range(n1):\n",
    "            for j in range(m2):\n",
    "                v2 = get_col(matrix_b, j)\n",
    "                v1 = matrix_a[i]\n",
    "                value = skal(v1, v2)\n",
    "                result[i][j] = value\n",
    "    return result\n",
    "def ziped(l,n):\n",
    "    return [get_col(l,i) for i in range(n)]\n",
    "def linear_regression_predict_solution(w, data, x_names):\n",
    "    n = len(np.array(data[x_names[0]]))\n",
    "    X = np.array(ziped([[1]*n,*[np.array(data[name]) for name in x_names]],n))\n",
    "    result = matrix_multiplication_solution(X, w)\n",
    "    return np.array(result)"
   ]
  },
  {
   "cell_type": "code",
   "execution_count": 53,
   "id": "9846748f",
   "metadata": {},
   "outputs": [],
   "source": [
    "def linear_regression_predict_test():\n",
    "    w_example_1 = np.array([2, 3])\n",
    "    data_example_1 = pd.DataFrame({\n",
    "        'x': [2.2, -4.1],\n",
    "    })\n",
    "    \n",
    "    res_example_1 = np.array([8.6, -10.3])\n",
    "    \n",
    "    custom_compare(linear_regression_predict_solution(w_example_1, data_example_1, ['x']), res_example_1)\n",
    "    \n",
    "    w_example_2 = np.array([0.1, 2.7, 2.3, -4.1])\n",
    "    data_example_2 = pd.DataFrame({\n",
    "        'x': [0.58, 0.15],\n",
    "        'extra': [1, 2],\n",
    "        'y': [0.58, 0.19],\n",
    "        'z': [0.93, 0.44]\n",
    "    })\n",
    "    \n",
    "    res_example_2 = np.array([-0.81, -0.86])\n",
    "    \n",
    "    custom_compare(linear_regression_predict_solution(w_example_2, data_example_2, ['x', 'y', 'z']), res_example_2)\n",
    "\n",
    "    print('Тест прошёл успешно!')"
   ]
  },
  {
   "cell_type": "code",
   "execution_count": 54,
   "id": "323ad4ac",
   "metadata": {
    "scrolled": true
   },
   "outputs": [
    {
     "ename": "TypeError",
     "evalue": "len() of unsized object",
     "output_type": "error",
     "traceback": [
      "\u001b[1;31m---------------------------------------------------------------------------\u001b[0m",
      "\u001b[1;31mTypeError\u001b[0m                                 Traceback (most recent call last)",
      "Cell \u001b[1;32mIn[54], line 1\u001b[0m\n\u001b[1;32m----> 1\u001b[0m \u001b[43mlinear_regression_predict_test\u001b[49m\u001b[43m(\u001b[49m\u001b[43m)\u001b[49m\n",
      "Cell \u001b[1;32mIn[53], line 9\u001b[0m, in \u001b[0;36mlinear_regression_predict_test\u001b[1;34m()\u001b[0m\n\u001b[0;32m      3\u001b[0m data_example_1 \u001b[38;5;241m=\u001b[39m pd\u001b[38;5;241m.\u001b[39mDataFrame({\n\u001b[0;32m      4\u001b[0m     \u001b[38;5;124m'\u001b[39m\u001b[38;5;124mx\u001b[39m\u001b[38;5;124m'\u001b[39m: [\u001b[38;5;241m2.2\u001b[39m, \u001b[38;5;241m-\u001b[39m\u001b[38;5;241m4.1\u001b[39m],\n\u001b[0;32m      5\u001b[0m })\n\u001b[0;32m      7\u001b[0m res_example_1 \u001b[38;5;241m=\u001b[39m np\u001b[38;5;241m.\u001b[39marray([\u001b[38;5;241m8.6\u001b[39m, \u001b[38;5;241m-\u001b[39m\u001b[38;5;241m10.3\u001b[39m])\n\u001b[1;32m----> 9\u001b[0m custom_compare(\u001b[43mlinear_regression_predict_solution\u001b[49m\u001b[43m(\u001b[49m\u001b[43mw_example_1\u001b[49m\u001b[43m,\u001b[49m\u001b[43m \u001b[49m\u001b[43mdata_example_1\u001b[49m\u001b[43m,\u001b[49m\u001b[43m \u001b[49m\u001b[43m[\u001b[49m\u001b[38;5;124;43m'\u001b[39;49m\u001b[38;5;124;43mx\u001b[39;49m\u001b[38;5;124;43m'\u001b[39;49m\u001b[43m]\u001b[49m\u001b[43m)\u001b[49m, res_example_1)\n\u001b[0;32m     11\u001b[0m w_example_2 \u001b[38;5;241m=\u001b[39m np\u001b[38;5;241m.\u001b[39marray([\u001b[38;5;241m0.1\u001b[39m, \u001b[38;5;241m2.7\u001b[39m, \u001b[38;5;241m2.3\u001b[39m, \u001b[38;5;241m-\u001b[39m\u001b[38;5;241m4.1\u001b[39m])\n\u001b[0;32m     12\u001b[0m data_example_2 \u001b[38;5;241m=\u001b[39m pd\u001b[38;5;241m.\u001b[39mDataFrame({\n\u001b[0;32m     13\u001b[0m     \u001b[38;5;124m'\u001b[39m\u001b[38;5;124mx\u001b[39m\u001b[38;5;124m'\u001b[39m: [\u001b[38;5;241m0.58\u001b[39m, \u001b[38;5;241m0.15\u001b[39m],\n\u001b[0;32m     14\u001b[0m     \u001b[38;5;124m'\u001b[39m\u001b[38;5;124mextra\u001b[39m\u001b[38;5;124m'\u001b[39m: [\u001b[38;5;241m1\u001b[39m, \u001b[38;5;241m2\u001b[39m],\n\u001b[0;32m     15\u001b[0m     \u001b[38;5;124m'\u001b[39m\u001b[38;5;124my\u001b[39m\u001b[38;5;124m'\u001b[39m: [\u001b[38;5;241m0.58\u001b[39m, \u001b[38;5;241m0.19\u001b[39m],\n\u001b[0;32m     16\u001b[0m     \u001b[38;5;124m'\u001b[39m\u001b[38;5;124mz\u001b[39m\u001b[38;5;124m'\u001b[39m: [\u001b[38;5;241m0.93\u001b[39m, \u001b[38;5;241m0.44\u001b[39m]\n\u001b[0;32m     17\u001b[0m })\n",
      "Cell \u001b[1;32mIn[52], line 4\u001b[0m, in \u001b[0;36mlinear_regression_predict_solution\u001b[1;34m(w, data, x_names)\u001b[0m\n\u001b[0;32m      2\u001b[0m n \u001b[38;5;241m=\u001b[39m \u001b[38;5;28mlen\u001b[39m(np\u001b[38;5;241m.\u001b[39marray(data[x_names[\u001b[38;5;241m0\u001b[39m]]))\n\u001b[0;32m      3\u001b[0m X \u001b[38;5;241m=\u001b[39m np\u001b[38;5;241m.\u001b[39marray(\u001b[38;5;28mzip\u001b[39m([\u001b[38;5;241m1\u001b[39m]\u001b[38;5;241m*\u001b[39mn,\u001b[38;5;241m*\u001b[39m[np\u001b[38;5;241m.\u001b[39marray(data[name]) \u001b[38;5;28;01mfor\u001b[39;00m name \u001b[38;5;129;01min\u001b[39;00m x_names]))\n\u001b[1;32m----> 4\u001b[0m result \u001b[38;5;241m=\u001b[39m \u001b[43mmatrix_multiplication_solution\u001b[49m\u001b[43m(\u001b[49m\u001b[43mX\u001b[49m\u001b[43m,\u001b[49m\u001b[43m \u001b[49m\u001b[43mw\u001b[49m\u001b[43m)\u001b[49m\n\u001b[0;32m      5\u001b[0m \u001b[38;5;28;01mreturn\u001b[39;00m np\u001b[38;5;241m.\u001b[39marray(result)\n",
      "Cell \u001b[1;32mIn[51], line 9\u001b[0m, in \u001b[0;36mmatrix_multiplication_solution\u001b[1;34m(matrix_a, matrix_b)\u001b[0m\n\u001b[0;32m      8\u001b[0m \u001b[38;5;28;01mdef\u001b[39;00m \u001b[38;5;21mmatrix_multiplication_solution\u001b[39m(matrix_a, matrix_b):\n\u001b[1;32m----> 9\u001b[0m     n1, m1 \u001b[38;5;241m=\u001b[39m \u001b[38;5;28;43mlen\u001b[39;49m\u001b[43m(\u001b[49m\u001b[43mmatrix_a\u001b[49m\u001b[43m)\u001b[49m, \u001b[38;5;28mlen\u001b[39m(matrix_a[\u001b[38;5;241m0\u001b[39m])\n\u001b[0;32m     10\u001b[0m     n2, m2 \u001b[38;5;241m=\u001b[39m \u001b[38;5;28mlen\u001b[39m(matrix_b), \u001b[38;5;241m1\u001b[39m \u001b[38;5;28;01mif\u001b[39;00m \u001b[38;5;28mtype\u001b[39m(matrix_b[\u001b[38;5;241m0\u001b[39m]) \u001b[38;5;129;01mis\u001b[39;00m \u001b[38;5;129;01mnot\u001b[39;00m \u001b[38;5;28mtype\u001b[39m([]) \u001b[38;5;28;01melse\u001b[39;00m \u001b[38;5;28mlen\u001b[39m(matrix_b[\u001b[38;5;241m0\u001b[39m])\n\u001b[0;32m     11\u001b[0m     \u001b[38;5;28;01mif\u001b[39;00m n2 \u001b[38;5;241m!=\u001b[39m m1:\n",
      "\u001b[1;31mTypeError\u001b[0m: len() of unsized object"
     ]
    }
   ],
   "source": [
    "linear_regression_predict_test()"
   ]
  },
  {
   "cell_type": "code",
   "execution_count": null,
   "id": "8c16cd86",
   "metadata": {},
   "outputs": [],
   "source": [
    "def linear_regression_solve_solution(data, factor_names, y_name):\n",
    "    \"\"\"\n",
    "    С помощью метода МНК строит модель линейной регрессии по переданному набору данных.\n",
    "    \n",
    "    Аргументы:\n",
    "        data: Таблица с объектами обучающей выборки.\n",
    "              Каждый объект описывается набором численных факторов. \n",
    "              В данных может быть представлено больше факторов, чем модель должна использовать для предсказания. \n",
    "              Искусственного константного фактора, который для всех объектов равен 1 и \n",
    "              который будет использоваться моделью для предсказания, в таблице нет.\n",
    "        factor_names: Список названий факторов, которые модель должна использовать для предсказания.\n",
    "        y_name: Название столбца таблицы, в котором для каждого объекта содержится\n",
    "                значение предсказываемой величины.\n",
    "        \n",
    "    Возвращаемое значение:\n",
    "        Возвращает вектор весов модели. \n",
    "        Координата вектора с индексом 0 соответствует свободному коэффициенту модели.\n",
    "        Координата вектора с индексом i соответствует фактору с индексом i - 1 в списке factor_names.\n",
    "    \"\"\"\n",
    "    \n",
    "    pass"
   ]
  },
  {
   "cell_type": "code",
   "execution_count": null,
   "id": "829e86e1",
   "metadata": {},
   "outputs": [],
   "source": [
    "# Установка библиотеки sklearn\n",
    "!pip3 install sklearn"
   ]
  },
  {
   "cell_type": "code",
   "execution_count": null,
   "id": "bc626c51",
   "metadata": {},
   "outputs": [],
   "source": [
    "from sklearn.linear_model import LinearRegression"
   ]
  },
  {
   "cell_type": "code",
   "execution_count": null,
   "id": "6964d95b",
   "metadata": {},
   "outputs": [],
   "source": [
    "def linear_regression_solve_test():\n",
    "    data_example_1 = pd.DataFrame({\n",
    "        'x': [2.2, -4.1],\n",
    "        'y': [1.4, 2.3]\n",
    "    })\n",
    "    \n",
    "    factor_names_example_1 = ['x']\n",
    "    y_name_example_1 = 'y'\n",
    "    \n",
    "    sklearn_model_example_1 = LinearRegression()\n",
    "    sklearn_model_example_1.fit(data_example_1[factor_names_example_1], data_example_1[y_name_example_1])\n",
    "    sklearn_coefs_example_1 = np.array([sklearn_model_example_1.intercept_] + sklearn_model_example_1.coef_.tolist()).round(2)\n",
    "    \n",
    "    custom_compare(linear_regression_solve_solution(data_example_1, \n",
    "                                                    factor_names_example_1, \n",
    "                                                    y_name_example_1), \n",
    "                   sklearn_coefs_example_1)\n",
    "    \n",
    "    data_example_2 = pd.DataFrame({\n",
    "        'x':[-1.92, -4.1 , -2.44, 2.55],\n",
    "        'extra': [-0.33, -3.64, -2.88, 1.21],\n",
    "        'y': [4.3, 3.62, -3.47, -1.9 ],\n",
    "        'z': [1.12, 3.38, -2.92, -2.54],\n",
    "        'target': [-1, 2.3, 1.8, -0.7]\n",
    "    })\n",
    "    \n",
    "    factor_names_example_2 = ['x', 'y', 'z']\n",
    "    y_name_example_2 = 'target'\n",
    "    \n",
    "    sklearn_model_example_2 = LinearRegression()\n",
    "    sklearn_model_example_2.fit(data_example_2[factor_names_example_2], data_example_2[y_name_example_2])\n",
    "    sklearn_coefs_example_2 = np.array([sklearn_model_example_2.intercept_] + sklearn_model_example_2.coef_.tolist()).round(2)\n",
    "    \n",
    "    custom_compare(linear_regression_solve_solution(data_example_2, \n",
    "                                                    factor_names_example_2, \n",
    "                                                    y_name_example_2), \n",
    "                   sklearn_coefs_example_2)\n",
    "\n",
    "    print('Тест прошёл успешно!')"
   ]
  },
  {
   "cell_type": "code",
   "execution_count": null,
   "id": "d3fb15cb",
   "metadata": {},
   "outputs": [],
   "source": [
    "linear_regression_solve_test()"
   ]
  }
 ],
 "metadata": {
  "kernelspec": {
   "display_name": "Python 3 (ipykernel)",
   "language": "python",
   "name": "python3"
  },
  "language_info": {
   "codemirror_mode": {
    "name": "ipython",
    "version": 3
   },
   "file_extension": ".py",
   "mimetype": "text/x-python",
   "name": "python",
   "nbconvert_exporter": "python",
   "pygments_lexer": "ipython3",
   "version": "3.11.1"
  }
 },
 "nbformat": 4,
 "nbformat_minor": 5
}
