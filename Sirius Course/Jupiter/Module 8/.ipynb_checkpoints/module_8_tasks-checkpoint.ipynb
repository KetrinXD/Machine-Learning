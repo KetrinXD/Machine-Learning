{
 "cells": [
  {
   "cell_type": "code",
   "execution_count": 1,
   "id": "76604282",
   "metadata": {},
   "outputs": [
    {
     "ename": "ModuleNotFoundError",
     "evalue": "No module named 'pandas'",
     "output_type": "error",
     "traceback": [
      "\u001b[1;31m---------------------------------------------------------------------------\u001b[0m",
      "\u001b[1;31mModuleNotFoundError\u001b[0m                       Traceback (most recent call last)",
      "Cell \u001b[1;32mIn[1], line 1\u001b[0m\n\u001b[1;32m----> 1\u001b[0m \u001b[38;5;28;01mimport\u001b[39;00m \u001b[38;5;21;01mpandas\u001b[39;00m \u001b[38;5;28;01mas\u001b[39;00m \u001b[38;5;21;01mpd\u001b[39;00m\n\u001b[0;32m      2\u001b[0m \u001b[38;5;28;01mimport\u001b[39;00m \u001b[38;5;21;01mseaborn\u001b[39;00m \u001b[38;5;28;01mas\u001b[39;00m \u001b[38;5;21;01msns\u001b[39;00m\n",
      "\u001b[1;31mModuleNotFoundError\u001b[0m: No module named 'pandas'"
     ]
    }
   ],
   "source": [
    "import pandas as pd\n",
    "import seaborn as sns"
   ]
  },
  {
   "cell_type": "code",
   "execution_count": null,
   "id": "647eef99",
   "metadata": {},
   "outputs": [],
   "source": [
    "sns.set(rc={'figure.figsize': (11.7, 8.27)})"
   ]
  },
  {
   "cell_type": "code",
   "execution_count": null,
   "id": "d2b96a5f",
   "metadata": {},
   "outputs": [],
   "source": [
    "def round_to_2(x):\n",
    "    \"\"\"\n",
    "    Принимает число и возвращает результат его округления\n",
    "    до 2 знаков после запятой.\n",
    "    \n",
    "    Аргументы:\n",
    "        x: Число.\n",
    "        \n",
    "    Возвращаемое значение:\n",
    "        Результат округления числа до 2 знаков после запятой.\n",
    "    \"\"\"\n",
    "    \n",
    "    return round(float(x), 2)"
   ]
  },
  {
   "cell_type": "code",
   "execution_count": null,
   "id": "1ac66575",
   "metadata": {},
   "outputs": [],
   "source": [
    "def custom_compare(x, y):\n",
    "    if str(x) != str(y):\n",
    "        raise RuntimeError(f'Ожидаемое значение: {y}. Фактическое: {x}')"
   ]
  },
  {
   "cell_type": "markdown",
   "id": "126499b4",
   "metadata": {},
   "source": [
    "# Линейная регрессия с двумя параметрами"
   ]
  },
  {
   "cell_type": "code",
   "execution_count": null,
   "id": "6a3f9532",
   "metadata": {},
   "outputs": [],
   "source": [
    "def two_parameters_linear_regression_solution(data, x_name, y_name):\n",
    "    \"\"\"\n",
    "    На основе данных из таблицы data с помощью МНК строит модель линейной регрессии,\n",
    "    которая по фактору x_name предсказывает значение фактора y_name.\n",
    "    \n",
    "    Аргументы:\n",
    "        data: Таблица с данными.\n",
    "        x_name: Название колонки в таблице, на основе которой нужно научиться\n",
    "                предсказывать значение целевой характеристики.\n",
    "        y_name: Название колонки в таблице, которая содержит значения\n",
    "                предсказываемой характеристики.\n",
    "        \n",
    "    Возвращаемое значение:\n",
    "        Возвращает пару параметров модели: свободный коэффициент w0, вес w1 перед фактором x_name.\n",
    "        \n",
    "        Значение каждого параметра должно быть округлено до 2 знаков после запятой с помощью функции `round_to_2`.\n",
    "    \"\"\"\n",
    "    \n",
    "    pass"
   ]
  },
  {
   "cell_type": "code",
   "execution_count": null,
   "id": "0d2f3076",
   "metadata": {},
   "outputs": [],
   "source": [
    "def two_parameters_linear_regression_test():\n",
    "    tbl_example_1 = [[1, 1],\n",
    "                     [2, 2],\n",
    "                     [3, 3],\n",
    "                     [4, 4],\n",
    "                     [5, 5]]\n",
    "    col_names_example_1 = ['x', 'y']\n",
    "    data_example_1 = pd.DataFrame(data=tbl_example_1, columns=col_names_example_1)\n",
    "    \n",
    "    res_example_1 = (0.0, 1.0)\n",
    "    \n",
    "    custom_compare(two_parameters_linear_regression_solution(data_example_1,\n",
    "                                                             col_names_example_1[0], \n",
    "                                                             col_names_example_1[1]),\n",
    "                   res_example_1)\n",
    "    \n",
    "    tbl_example_2 = [[1.1, 1, 0.21],\n",
    "                     [-3.4, 2, 0.19],\n",
    "                     [2.7, 3, 0.39],\n",
    "                     [2.8, 4, 0.22],\n",
    "                     [0.31, 5, -0.1]]\n",
    "    col_names_example_2 = ['x', 'extra', 'y']\n",
    "    data_example_2 = pd.DataFrame(data=tbl_example_2, columns=col_names_example_2)\n",
    "\n",
    "    res_example_2 = (0.17, 0.02)\n",
    "    \n",
    "    custom_compare(two_parameters_linear_regression_solution(data_example_2,\n",
    "                                                             col_names_example_2[0], \n",
    "                                                             col_names_example_2[2]),\n",
    "                   res_example_2)\n",
    "\n",
    "    print('Тест прошёл успешно!')"
   ]
  },
  {
   "cell_type": "code",
   "execution_count": null,
   "id": "a4feecf3",
   "metadata": {},
   "outputs": [],
   "source": [
    "two_parameters_linear_regression_test()"
   ]
  },
  {
   "cell_type": "markdown",
   "id": "26143b7c",
   "metadata": {},
   "source": [
    "# Основные понятия линейной алгебры"
   ]
  },
  {
   "cell_type": "code",
   "execution_count": null,
   "id": "4cac75b5",
   "metadata": {},
   "outputs": [],
   "source": [
    "def matrix_multiplication_solution(matrix_a, matrix_b):\n",
    "    \"\"\"\n",
    "    Производит перемножение двух заданных матриц.\n",
    "    Если произвести перемножение матриц нельзя, то возвращает -1.\n",
    "    \n",
    "    Аргументы:\n",
    "        matrix_a: Первая матрица.\n",
    "        matrix_b: Вторая матрица.\n",
    "        \n",
    "    Возвращаемое значение:\n",
    "        Возвращает матрицу, которая является результатом перемножения двух заданных матриц.\n",
    "        Значение в каждой ячейке получившейся матрицы должно быть округлено\n",
    "        до 2 знаков после запятой с помощью функции round_to_2.\n",
    "    \"\"\"\n",
    "    \n",
    "    pass"
   ]
  },
  {
   "cell_type": "code",
   "execution_count": null,
   "id": "04a5935a",
   "metadata": {},
   "outputs": [],
   "source": [
    "def matrix_multiplication_test():\n",
    "    matrix_a_example_1 = [[1, 2],\n",
    "                          [-1, 0]]\n",
    "    matrix_b_example_1 = [[-1, 1],\n",
    "                          [3, -2]]\n",
    "    \n",
    "    res_example_1 = [[5.0, -3.0],\n",
    "                     [1.0, -1.0]]\n",
    "    \n",
    "    custom_compare(matrix_multiplication_solution(matrix_a_example_1, matrix_b_example_1),\n",
    "                   res_example_1)\n",
    "    \n",
    "    matrix_a_example_2 = [[1, 2],\n",
    "                          [-1, 0]]\n",
    "    matrix_b_example_2 = [[-1, 1],\n",
    "                          [3, -2],\n",
    "                          [0.1, 2]]\n",
    "    \n",
    "    res_example_2 = -1\n",
    "    \n",
    "    custom_compare(matrix_multiplication_solution(matrix_a_example_2, matrix_b_example_2),\n",
    "                   res_example_2)\n",
    "    \n",
    "    matrix_a_example_3 = [[0.7, 3.9],\n",
    "                          [-2.3, 5.1],\n",
    "                          [7.8, 0]]\n",
    "    matrix_b_example_3 = [[-1, 3.78, 1],\n",
    "                          [2.1, -8, 2]]\n",
    "    \n",
    "    res_example_3 = [[7.49, -28.55, 8.5],\n",
    "                     [13.01, -49.49, 7.9],\n",
    "                     [-7.8, 29.48, 7.8]]\n",
    "    \n",
    "    custom_compare(matrix_multiplication_solution(matrix_a_example_3, matrix_b_example_3),\n",
    "                   res_example_3)\n",
    "\n",
    "    print('Тест прошёл успешно!')"
   ]
  },
  {
   "cell_type": "code",
   "execution_count": null,
   "id": "a4958c4b",
   "metadata": {},
   "outputs": [],
   "source": [
    "matrix_multiplication_test()"
   ]
  },
  {
   "cell_type": "code",
   "execution_count": null,
   "id": "a24034c8",
   "metadata": {},
   "outputs": [],
   "source": [
    "def transpose_matrix_solution(matrix):\n",
    "    \"\"\"\n",
    "    Производит транспонирование переданной матрицы.\n",
    "    \n",
    "    Аргументы:\n",
    "        matrix: Матрица, которую нужно транспонировать.\n",
    "        \n",
    "    Возвращаемое значение:\n",
    "        Возвращает матрицу, которая является результатом транспонирования матрицы-аргумента.\n",
    "    \"\"\"\n",
    "    \n",
    "    pass"
   ]
  },
  {
   "cell_type": "code",
   "execution_count": null,
   "id": "d57b4363",
   "metadata": {},
   "outputs": [],
   "source": [
    "def transpose_matrix_test():\n",
    "    matrix_example_1 = [[1, 2, 3],\n",
    "                        [-1, 3, 1]]\n",
    "    \n",
    "    res_example_1 = [[1, -1],\n",
    "                     [2, 3],\n",
    "                     [3, 1]]\n",
    "    \n",
    "    custom_compare(transpose_matrix_solution(matrix_example_1), res_example_1)\n",
    "    \n",
    "    matrix_example_2 = [[0, 22, 3, 6],\n",
    "                        [5, 4, -1, 7],\n",
    "                        [-7, 82, 31, 8],\n",
    "                        [38, -49, 4, 1]]\n",
    "    \n",
    "    res_example_2 = [[0, 5, -7, 38],\n",
    "                     [22, 4, 82, -49],\n",
    "                     [3, -1, 31, 4],\n",
    "                     [6, 7, 8, 1]]\n",
    "    \n",
    "    custom_compare(transpose_matrix_solution(matrix_example_2), res_example_2)\n",
    "\n",
    "    print('Тест прошёл успешно!')"
   ]
  },
  {
   "cell_type": "code",
   "execution_count": null,
   "id": "05f37fce",
   "metadata": {},
   "outputs": [],
   "source": [
    "transpose_matrix_test()"
   ]
  },
  {
   "cell_type": "markdown",
   "id": "e121ae5e",
   "metadata": {},
   "source": [
    "# Множественная линейная регрессия"
   ]
  },
  {
   "cell_type": "code",
   "execution_count": null,
   "id": "9c79f86e",
   "metadata": {},
   "outputs": [],
   "source": [
    "# Установка библиотеки numpy\n",
    "!pip3 install numpy"
   ]
  },
  {
   "cell_type": "code",
   "execution_count": null,
   "id": "a623ed7b",
   "metadata": {},
   "outputs": [],
   "source": [
    "import numpy as np"
   ]
  },
  {
   "cell_type": "code",
   "execution_count": null,
   "id": "1eeb5162",
   "metadata": {},
   "outputs": [],
   "source": [
    "def linear_regression_predict_solution(w, data, x_names):\n",
    "    \"\"\"\n",
    "    На основе переданного вектора весов для каждого объекта из переданного\n",
    "    набора данных делает предсказание с помощью модели линейной регрессии.\n",
    "    \n",
    "    Аргументы:\n",
    "        w: Вектор весов модели линейной регрессии. Первая координата вектора соответствует\n",
    "           свободному коэффициенту, последующие — весам факторов.\n",
    "        data: Таблица с объектами, для которых необходимо сделать предсказания.\n",
    "              Каждый объект описывается набором численных факторов. \n",
    "              В данных может быть представлено больше факторов, чем модель использует для предсказания. \n",
    "              Искусственного константного фактора, который для всех объектов равен 1 и \n",
    "              который используется моделью для предсказания, в таблице нет.\n",
    "        x_names: Список названий факторов, которые используются для предсказания. \n",
    "                 Порядок названий совпадает с порядком, в котором идут коэффициенты факторов\n",
    "                 в векторе весов w.\n",
    "        \n",
    "    Возвращаемое значение:\n",
    "        Вектор предсказанных значений целевой характеристики для объектов из переданной таблицы.\n",
    "    \"\"\"\n",
    "    \n",
    "    pass"
   ]
  },
  {
   "cell_type": "code",
   "execution_count": null,
   "id": "9846748f",
   "metadata": {},
   "outputs": [],
   "source": [
    "def linear_regression_predict_test():\n",
    "    w_example_1 = np.array([2, 3])\n",
    "    data_example_1 = pd.DataFrame({\n",
    "        'x': [2.2, -4.1],\n",
    "    })\n",
    "    \n",
    "    res_example_1 = np.array([8.6, -10.3])\n",
    "    \n",
    "    custom_compare(linear_regression_predict_solution(w_example_1, data_example_1, ['x']), res_example_1)\n",
    "    \n",
    "    w_example_2 = np.array([0.1, 2.7, 2.3, -4.1])\n",
    "    data_example_2 = pd.DataFrame({\n",
    "        'x': [0.58, 0.15],\n",
    "        'extra': [1, 2],\n",
    "        'y': [0.58, 0.19],\n",
    "        'z': [0.93, 0.44]\n",
    "    })\n",
    "    \n",
    "    res_example_2 = np.array([-0.81, -0.86])\n",
    "    \n",
    "    custom_compare(linear_regression_predict_solution(w_example_2, data_example_2, ['x', 'y', 'z']), res_example_2)\n",
    "\n",
    "    print('Тест прошёл успешно!')"
   ]
  },
  {
   "cell_type": "code",
   "execution_count": null,
   "id": "323ad4ac",
   "metadata": {},
   "outputs": [],
   "source": [
    "linear_regression_predict_test()"
   ]
  },
  {
   "cell_type": "code",
   "execution_count": null,
   "id": "8c16cd86",
   "metadata": {},
   "outputs": [],
   "source": [
    "def linear_regression_solve_solution(data, factor_names, y_name):\n",
    "    \"\"\"\n",
    "    С помощью метода МНК строит модель линейной регрессии по переданному набору данных.\n",
    "    \n",
    "    Аргументы:\n",
    "        data: Таблица с объектами обучающей выборки.\n",
    "              Каждый объект описывается набором численных факторов. \n",
    "              В данных может быть представлено больше факторов, чем модель должна использовать для предсказания. \n",
    "              Искусственного константного фактора, который для всех объектов равен 1 и \n",
    "              который будет использоваться моделью для предсказания, в таблице нет.\n",
    "        factor_names: Список названий факторов, которые модель должна использовать для предсказания.\n",
    "        y_name: Название столбца таблицы, в котором для каждого объекта содержится\n",
    "                значение предсказываемой величины.\n",
    "        \n",
    "    Возвращаемое значение:\n",
    "        Возвращает вектор весов модели. \n",
    "        Координата вектора с индексом 0 соответствует свободному коэффициенту модели.\n",
    "        Координата вектора с индексом i соответствует фактору с индексом i - 1 в списке factor_names.\n",
    "    \"\"\"\n",
    "    \n",
    "    pass"
   ]
  },
  {
   "cell_type": "code",
   "execution_count": null,
   "id": "829e86e1",
   "metadata": {},
   "outputs": [],
   "source": [
    "# Установка библиотеки sklearn\n",
    "!pip3 install sklearn"
   ]
  },
  {
   "cell_type": "code",
   "execution_count": null,
   "id": "bc626c51",
   "metadata": {},
   "outputs": [],
   "source": [
    "from sklearn.linear_model import LinearRegression"
   ]
  },
  {
   "cell_type": "code",
   "execution_count": null,
   "id": "6964d95b",
   "metadata": {},
   "outputs": [],
   "source": [
    "def linear_regression_solve_test():\n",
    "    data_example_1 = pd.DataFrame({\n",
    "        'x': [2.2, -4.1],\n",
    "        'y': [1.4, 2.3]\n",
    "    })\n",
    "    \n",
    "    factor_names_example_1 = ['x']\n",
    "    y_name_example_1 = 'y'\n",
    "    \n",
    "    sklearn_model_example_1 = LinearRegression()\n",
    "    sklearn_model_example_1.fit(data_example_1[factor_names_example_1], data_example_1[y_name_example_1])\n",
    "    sklearn_coefs_example_1 = np.array([sklearn_model_example_1.intercept_] + sklearn_model_example_1.coef_.tolist()).round(2)\n",
    "    \n",
    "    custom_compare(linear_regression_solve_solution(data_example_1, \n",
    "                                                    factor_names_example_1, \n",
    "                                                    y_name_example_1), \n",
    "                   sklearn_coefs_example_1)\n",
    "    \n",
    "    data_example_2 = pd.DataFrame({\n",
    "        'x':[-1.92, -4.1 , -2.44, 2.55],\n",
    "        'extra': [-0.33, -3.64, -2.88, 1.21],\n",
    "        'y': [4.3, 3.62, -3.47, -1.9 ],\n",
    "        'z': [1.12, 3.38, -2.92, -2.54],\n",
    "        'target': [-1, 2.3, 1.8, -0.7]\n",
    "    })\n",
    "    \n",
    "    factor_names_example_2 = ['x', 'y', 'z']\n",
    "    y_name_example_2 = 'target'\n",
    "    \n",
    "    sklearn_model_example_2 = LinearRegression()\n",
    "    sklearn_model_example_2.fit(data_example_2[factor_names_example_2], data_example_2[y_name_example_2])\n",
    "    sklearn_coefs_example_2 = np.array([sklearn_model_example_2.intercept_] + sklearn_model_example_2.coef_.tolist()).round(2)\n",
    "    \n",
    "    custom_compare(linear_regression_solve_solution(data_example_2, \n",
    "                                                    factor_names_example_2, \n",
    "                                                    y_name_example_2), \n",
    "                   sklearn_coefs_example_2)\n",
    "\n",
    "    print('Тест прошёл успешно!')"
   ]
  },
  {
   "cell_type": "code",
   "execution_count": null,
   "id": "d3fb15cb",
   "metadata": {},
   "outputs": [],
   "source": [
    "linear_regression_solve_test()"
   ]
  }
 ],
 "metadata": {
  "kernelspec": {
   "display_name": "Python 3 (ipykernel)",
   "language": "python",
   "name": "python3"
  },
  "language_info": {
   "codemirror_mode": {
    "name": "ipython",
    "version": 3
   },
   "file_extension": ".py",
   "mimetype": "text/x-python",
   "name": "python",
   "nbconvert_exporter": "python",
   "pygments_lexer": "ipython3",
   "version": "3.11.1"
  }
 },
 "nbformat": 4,
 "nbformat_minor": 5
}
