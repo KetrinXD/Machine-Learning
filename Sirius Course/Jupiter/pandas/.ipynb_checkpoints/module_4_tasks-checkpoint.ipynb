{
 "cells": [
  {
   "cell_type": "code",
   "execution_count": 2,
   "id": "d3303334",
   "metadata": {},
   "outputs": [
    {
     "name": "stdout",
     "output_type": "stream",
     "text": [
      "Defaulting to user installation because normal site-packages is not writeable\n",
      "Requirement already satisfied: pandas in c:\\users\\пользователь\\appdata\\roaming\\python\\python39\\site-packages (1.5.2)\n",
      "Requirement already satisfied: pytz>=2020.1 in c:\\users\\пользователь\\appdata\\roaming\\python\\python39\\site-packages (from pandas) (2021.3)\n",
      "Requirement already satisfied: numpy>=1.20.3 in c:\\users\\пользователь\\appdata\\roaming\\python\\python39\\site-packages (from pandas) (1.23.5)\n",
      "Requirement already satisfied: python-dateutil>=2.8.1 in c:\\users\\пользователь\\appdata\\roaming\\python\\python39\\site-packages (from pandas) (2.8.2)\n",
      "Requirement already satisfied: six>=1.5 in c:\\users\\пользователь\\appdata\\roaming\\python\\python39\\site-packages (from python-dateutil>=2.8.1->pandas) (1.16.0)\n",
      "Defaulting to user installation because normal site-packages is not writeable\n",
      "Requirement already satisfied: seaborn in c:\\users\\пользователь\\appdata\\roaming\\python\\python39\\site-packages (0.12.1)\n",
      "Requirement already satisfied: matplotlib!=3.6.1,>=3.1 in c:\\users\\пользователь\\appdata\\roaming\\python\\python39\\site-packages (from seaborn) (3.5.1)\n",
      "Requirement already satisfied: numpy>=1.17 in c:\\users\\пользователь\\appdata\\roaming\\python\\python39\\site-packages (from seaborn) (1.23.5)\n",
      "Requirement already satisfied: pandas>=0.25 in c:\\users\\пользователь\\appdata\\roaming\\python\\python39\\site-packages (from seaborn) (1.5.2)\n",
      "Requirement already satisfied: pyparsing>=2.2.1 in c:\\users\\пользователь\\appdata\\roaming\\python\\python39\\site-packages (from matplotlib!=3.6.1,>=3.1->seaborn) (3.0.9)\n",
      "Requirement already satisfied: pillow>=6.2.0 in c:\\users\\пользователь\\appdata\\roaming\\python\\python39\\site-packages (from matplotlib!=3.6.1,>=3.1->seaborn) (9.3.0)\n",
      "Requirement already satisfied: fonttools>=4.22.0 in c:\\users\\пользователь\\appdata\\roaming\\python\\python39\\site-packages (from matplotlib!=3.6.1,>=3.1->seaborn) (4.38.0)\n",
      "Requirement already satisfied: python-dateutil>=2.7 in c:\\users\\пользователь\\appdata\\roaming\\python\\python39\\site-packages (from matplotlib!=3.6.1,>=3.1->seaborn) (2.8.2)\n",
      "Requirement already satisfied: kiwisolver>=1.0.1 in c:\\users\\пользователь\\appdata\\roaming\\python\\python39\\site-packages (from matplotlib!=3.6.1,>=3.1->seaborn) (1.4.4)\n",
      "Requirement already satisfied: packaging>=20.0 in c:\\users\\пользователь\\appdata\\roaming\\python\\python39\\site-packages (from matplotlib!=3.6.1,>=3.1->seaborn) (21.3)\n",
      "Requirement already satisfied: cycler>=0.10 in c:\\users\\пользователь\\appdata\\roaming\\python\\python39\\site-packages (from matplotlib!=3.6.1,>=3.1->seaborn) (0.11.0)\n",
      "Requirement already satisfied: pytz>=2020.1 in c:\\users\\пользователь\\appdata\\roaming\\python\\python39\\site-packages (from pandas>=0.25->seaborn) (2021.3)\n",
      "Requirement already satisfied: six>=1.5 in c:\\users\\пользователь\\appdata\\roaming\\python\\python39\\site-packages (from python-dateutil>=2.7->matplotlib!=3.6.1,>=3.1->seaborn) (1.16.0)\n"
     ]
    }
   ],
   "source": [
    "# Перед началом работы с библиотеками pandas и seaborn необходимо установить их в Python.\n",
    "# Сделать это можно, исполнив данную ячейку\n",
    "!pip3 install pandas\n",
    "!pip3 install seaborn"
   ]
  },
  {
   "cell_type": "code",
   "execution_count": 3,
   "id": "551c3d84",
   "metadata": {},
   "outputs": [
    {
     "ename": "ImportError",
     "evalue": "Unable to import required dependencies:\nnumpy: \n\nIMPORTANT: PLEASE READ THIS FOR ADVICE ON HOW TO SOLVE THIS ISSUE!\n\nImporting the numpy C-extensions failed. This error can happen for\nmany reasons, often due to issues with your setup or how NumPy was\ninstalled.\n\nWe have compiled some common reasons and troubleshooting tips at:\n\n    https://numpy.org/devdocs/user/troubleshooting-importerror.html\n\nPlease note and check the following:\n\n  * The Python version is: Python3.9 from \"C:\\Program Files\\Python39\\python.exe\"\n  * The NumPy version is: \"1.23.5\"\n\nand make sure that they are the versions you expect.\nPlease carefully study the documentation linked above for further help.\n\nOriginal error was: DLL load failed while importing _multiarray_umath: Не найден указанный модуль.\n",
     "output_type": "error",
     "traceback": [
      "\u001b[1;31m---------------------------------------------------------------------------\u001b[0m",
      "\u001b[1;31mImportError\u001b[0m                               Traceback (most recent call last)",
      "Cell \u001b[1;32mIn[3], line 1\u001b[0m\n\u001b[1;32m----> 1\u001b[0m \u001b[38;5;28;01mimport\u001b[39;00m \u001b[38;5;21;01mpandas\u001b[39;00m \u001b[38;5;28;01mas\u001b[39;00m \u001b[38;5;21;01mpd\u001b[39;00m\n\u001b[0;32m      2\u001b[0m \u001b[38;5;28;01mimport\u001b[39;00m \u001b[38;5;21;01mseaborn\u001b[39;00m \u001b[38;5;28;01mas\u001b[39;00m \u001b[38;5;21;01msns\u001b[39;00m\n",
      "File \u001b[1;32m~\\AppData\\Roaming\\Python\\Python39\\site-packages\\pandas\\__init__.py:16\u001b[0m\n\u001b[0;32m     13\u001b[0m         _missing_dependencies\u001b[38;5;241m.\u001b[39mappend(\u001b[38;5;124mf\u001b[39m\u001b[38;5;124m\"\u001b[39m\u001b[38;5;132;01m{\u001b[39;00m_dependency\u001b[38;5;132;01m}\u001b[39;00m\u001b[38;5;124m: \u001b[39m\u001b[38;5;132;01m{\u001b[39;00m_e\u001b[38;5;132;01m}\u001b[39;00m\u001b[38;5;124m\"\u001b[39m)\n\u001b[0;32m     15\u001b[0m \u001b[38;5;28;01mif\u001b[39;00m _missing_dependencies:\n\u001b[1;32m---> 16\u001b[0m     \u001b[38;5;28;01mraise\u001b[39;00m \u001b[38;5;167;01mImportError\u001b[39;00m(\n\u001b[0;32m     17\u001b[0m         \u001b[38;5;124m\"\u001b[39m\u001b[38;5;124mUnable to import required dependencies:\u001b[39m\u001b[38;5;130;01m\\n\u001b[39;00m\u001b[38;5;124m\"\u001b[39m \u001b[38;5;241m+\u001b[39m \u001b[38;5;124m\"\u001b[39m\u001b[38;5;130;01m\\n\u001b[39;00m\u001b[38;5;124m\"\u001b[39m\u001b[38;5;241m.\u001b[39mjoin(_missing_dependencies)\n\u001b[0;32m     18\u001b[0m     )\n\u001b[0;32m     19\u001b[0m \u001b[38;5;28;01mdel\u001b[39;00m _hard_dependencies, _dependency, _missing_dependencies\n\u001b[0;32m     21\u001b[0m \u001b[38;5;66;03m# numpy compat\u001b[39;00m\n",
      "\u001b[1;31mImportError\u001b[0m: Unable to import required dependencies:\nnumpy: \n\nIMPORTANT: PLEASE READ THIS FOR ADVICE ON HOW TO SOLVE THIS ISSUE!\n\nImporting the numpy C-extensions failed. This error can happen for\nmany reasons, often due to issues with your setup or how NumPy was\ninstalled.\n\nWe have compiled some common reasons and troubleshooting tips at:\n\n    https://numpy.org/devdocs/user/troubleshooting-importerror.html\n\nPlease note and check the following:\n\n  * The Python version is: Python3.9 from \"C:\\Program Files\\Python39\\python.exe\"\n  * The NumPy version is: \"1.23.5\"\n\nand make sure that they are the versions you expect.\nPlease carefully study the documentation linked above for further help.\n\nOriginal error was: DLL load failed while importing _multiarray_umath: Не найден указанный модуль.\n"
     ]
    }
   ],
   "source": [
    "import pandas as pd\n",
    "import seaborn as sns"
   ]
  },
  {
   "cell_type": "markdown",
   "id": "26e0fec2",
   "metadata": {},
   "source": [
    "## Работа со словарём "
   ]
  },
  {
   "cell_type": "code",
   "execution_count": null,
   "id": "437f8727",
   "metadata": {},
   "outputs": [],
   "source": [
    "def count_numbers_solution(list_of_data):\n",
    "    \"\"\"\n",
    "    Принимает на вход список целочисленных значений и подсчитывает, сколько\n",
    "    раз в списке встретилось каждое из значений.\n",
    "    \n",
    "    Аргументы:\n",
    "        list_of_data: Список целочисленных значений, котрые нужно пересчитать.\n",
    "        \n",
    "    Возвращаемое значение:\n",
    "        Словарь, в котором каждому значению из исходного списка сопоставлено\n",
    "        количество раз, которое это значение встречается в списке.\n",
    "    \"\"\"\n",
    "    \n",
    "    pass"
   ]
  },
  {
   "cell_type": "code",
   "execution_count": null,
   "id": "91c57142",
   "metadata": {},
   "outputs": [],
   "source": [
    "def count_numbers_tests():\n",
    "    def compare_dicts(d_calc, d_real):\n",
    "        if len(d_calc) != len(d_real):\n",
    "            raise RuntimeError(\n",
    "                f'Число ключей в словарях различается: должно быть {len(d_real)}, а получилось {len(d_calc)}.')\n",
    "            \n",
    "        for key, value in d_calc.items():\n",
    "            if d_real[key] != value:\n",
    "                raise RuntimeError(f'Значение для ключа {key} получилось неправильное: должно быть {d_real[key]}, а получилось {value}.')\n",
    "        \n",
    "    example_1_list = [1, 2, 3, 2, 3, 1, 2, 2, 2]\n",
    "    example_1_res = {1: 2, 2: 5, 3: 2}\n",
    "    \n",
    "    compare_dicts(count_numbers_solution(example_1_list), example_1_res)\n",
    "    \n",
    "    example_2_list = [8, 2, 10, 5, 7, 0, 1, 9, 5, 9, 1, 1, 2, 10, 5, 3, 6, 2, 2, 9, 5, 7, 10, 2, 6, 8, 7, 7, 7, 10, 5, 2, 8, 9, 2, 8, 8, 2, 6, 4, 6, 3, 0, 3, 6, 3, 4, 1, 2, 8]\n",
    "    example_2_res = {8: 6, 2: 9, 10: 4, 5: 5, 7: 5, 0: 2, 1: 4, 9: 4, 3: 4, 6: 5, 4: 2}\n",
    "    \n",
    "    compare_dicts(count_numbers_solution(example_2_list), example_2_res)\n",
    "    \n",
    "    example_3_list = [5, 2, 3, 2, 5, 1, 4, 7, 5, 5, 5, 5, 8, 2, 5, 3, 5, 6, 1, 3, 6, 6, 6, 3, 6, 2, 4, 5, 1, 4, 6, 6, 1, 3, 3, 4, 4, 3, 1, 7, 5, 3, 6, 4, 4, 3, 2, 7, 1, 4, 2, 3, 7, 8, 7, 7, 7, 5, 9, 3, 3, 4, 2, 2, 3, 6, 8, 5, 4, 4, 4, 7, 1, 11, 6, 5, 6, 5, 6, 4, 4, 5, 4, 8, 3, 4, 3, 1, 4, 5, 5, 4, 4, 6, 4, 6, 3, 4, 7, 8]\n",
    "    example_3_res = {5: 17, 2: 8, 3: 16, 1: 8, 4: 21, 7: 9, 8: 5, 6: 14, 9: 1, 11: 1}\n",
    "    \n",
    "    compare_dicts(count_numbers_solution(example_3_list), example_3_res)\n",
    "    \n",
    "    print('Все тесты прошли успешно!')"
   ]
  },
  {
   "cell_type": "code",
   "execution_count": null,
   "id": "6f6a4da7",
   "metadata": {},
   "outputs": [],
   "source": [
    "count_numbers_tests()"
   ]
  },
  {
   "cell_type": "markdown",
   "id": "78291539",
   "metadata": {},
   "source": [
    "## Кодирование факторов с помощью новых бинарных факторов"
   ]
  },
  {
   "cell_type": "code",
   "execution_count": null,
   "id": "c5b68f55",
   "metadata": {},
   "outputs": [],
   "source": [
    "def new_columns_solution(column):\n",
    "    \"\"\"\n",
    "    Принимает на вход колонку со значениями категориального фактора\n",
    "    и производит его кодирование, представляя каждую категорию в виде\n",
    "    колонки со значениями 0 и 1.\n",
    "    \n",
    "    Аргументы:\n",
    "        column: Колонка со значениями категориального фактора.\n",
    "        \n",
    "    Возвращаемое значение:\n",
    "        Словарь, в котором каждой категории исходной колонки сопоставлен список из 0 и 1.\n",
    "        Если на позиции i в этом списке находится 1, то это значит, что в исходной колонке\n",
    "        в i-ой строке было записано название соответствующей категории.\n",
    "        Если на позиции i в списке находится 0, то в i-ой строке исходной колонки была\n",
    "        записана другая категория.\n",
    "    \"\"\"\n",
    "    "
   ]
  },
  {
   "cell_type": "code",
   "execution_count": null,
   "id": "bede5757",
   "metadata": {},
   "outputs": [],
   "source": [
    "def new_columns_tests():\n",
    "    def compare_dicts(d_calc, d_real):\n",
    "        if len(d_calc) != len(d_real):\n",
    "            raise RuntimeError(\n",
    "                f'Число ключей в словарях различается: должно быть {len(d_real)}, а получилось {len(d_calc)}.')\n",
    "            \n",
    "        for key, value in d_calc.items():\n",
    "            if d_real[key] != value:\n",
    "                raise RuntimeError(f'Значение для ключа {key} получилось неправильное: должно быть {d_real[key]}, а получилось {value}.')\n",
    "                \n",
    "    example_1_column = pd.Series(['a', 'aa', 'aaa', 'aa'])\n",
    "    example_1_res = {\n",
    "        'a': [1, 0, 0, 0],\n",
    "        'aa': [0, 1, 0, 1],\n",
    "        'aaa': [0, 0, 1, 0]\n",
    "    }\n",
    "    \n",
    "    compare_dicts(new_columns_solution(example_1_column), example_1_res)\n",
    "    \n",
    "    example_2_column = pd.Series(['улица', 'помещение', 'помещение', 'улица', 'улица'])\n",
    "    example_2_res = {\n",
    "        'улица': [1, 0, 0, 1, 1],\n",
    "        'помещение': [0, 1, 1, 0, 0]\n",
    "    }\n",
    "    \n",
    "    compare_dicts(new_columns_solution(example_2_column), example_2_res)\n",
    "    \n",
    "    example_3_column = pd.Series(['--', '++', '--', '^^', '~~', '--', '^^'])\n",
    "    example_3_res = {\n",
    "        '--': [1, 0, 1, 0, 0, 1, 0],\n",
    "        '++': [0, 1, 0, 0, 0, 0, 0],\n",
    "        '^^': [0, 0, 0, 1, 0, 0, 1],\n",
    "        '~~': [0, 0, 0, 0, 1, 0, 0],\n",
    "    }\n",
    "    \n",
    "    compare_dicts(new_columns_solution(example_3_column), example_3_res)\n",
    "    \n",
    "    \n",
    "    print('Все тесты прошли успешно!')"
   ]
  },
  {
   "cell_type": "code",
   "execution_count": null,
   "id": "77738fa3",
   "metadata": {},
   "outputs": [],
   "source": [
    "new_columns_tests()"
   ]
  },
  {
   "cell_type": "code",
   "execution_count": null,
   "id": "1f3cb0fb",
   "metadata": {},
   "outputs": [],
   "source": [
    "def categorical_to_binary_solution(data, columns):\n",
    "    \"\"\"\n",
    "    Принимает на вход таблицу и производит кодирование представленных\n",
    "    в ней категориальных факторов. Каждый фактор представляется в виде\n",
    "    набора бинарных факторов, соответствующих отдельным категориям исходного фактора.\n",
    "    \n",
    "    Аргументы:\n",
    "        data: Таблица, категориальные факторы которой необходимо закодировать.\n",
    "        columns: Список колонок, в которых представлены факторы, которые необходимо закодировать.\n",
    "        \n",
    "    Возвращаемое значение:\n",
    "        Исходная таблица, в которой для каждого из указанных категориальных факторов\n",
    "        добавлено несколько бинарных факторов — по одному на каждую категорию.\n",
    "        \n",
    "        Для какого-то объекта бинарный фактор принимает значение 1 в том случае,\n",
    "        если исходный фактор для данного объекта принимал значение соответствующей категории.\n",
    "        В противном случае значение бинарного фактора равно 0.\n",
    "    \"\"\"\n",
    "    \n",
    "    pass"
   ]
  },
  {
   "cell_type": "code",
   "execution_count": null,
   "id": "50099c9c",
   "metadata": {},
   "outputs": [],
   "source": [
    "def categorical_to_binary_tests():\n",
    "    def compare_tables(table_calc, table_real, factors):\n",
    "        for factor in factors:\n",
    "            vals = list(table_real[factor].unique())\n",
    "            \n",
    "            for val in vals:\n",
    "                assert list(table_calc[val]) == list(table_real[val])\n",
    "                \n",
    "    example_1_columns = ['A', 'B']\n",
    "    example_1_data = [\n",
    "        ['a', 3],\n",
    "        ['aa', 5],\n",
    "        ['aaa', 8],\n",
    "        ['aa', 13]\n",
    "    ]\n",
    "    example_1_table = pd.DataFrame(columns=example_1_columns, data=example_1_data)\n",
    "    example_1_factors = ['A']\n",
    "    \n",
    "    example_1_res_columns = ['A', 'B', 'a', 'aa', 'aaa']\n",
    "    example_1_res_data = [\n",
    "        ['a', 3, 1, 0, 0],\n",
    "        ['aa', 5, 0, 1, 0],\n",
    "        ['aaa', 8, 0, 0, 1],\n",
    "        ['aa', 13, 0, 1, 0]\n",
    "    ]\n",
    "    example_1_res_table = pd.DataFrame(columns=example_1_res_columns, data=example_1_res_data)\n",
    "    \n",
    "    compare_tables(categorical_to_binary_solution(example_1_table, example_1_factors),\n",
    "                   example_1_res_table,\n",
    "                   example_1_factors)\n",
    "    \n",
    "    example_2_columns = ['номер наблюдения', 'время суток', 'погода']\n",
    "    example_2_data = [\n",
    "        [1, 'день', 'дождь'],\n",
    "        [2, 'ночь', 'снег'],\n",
    "        [3, 'день', 'солнце'],\n",
    "        [4, 'день', 'солнце'],\n",
    "        [5, 'сумерки', 'дождь'],\n",
    "    ]\n",
    "    example_2_table = pd.DataFrame(columns=example_2_columns, data=example_2_data)\n",
    "    example_2_factors = ['время суток', 'погода']\n",
    "    \n",
    "    example_2_res_columns = ['номер наблюдения', 'время суток', 'погода', \n",
    "                             'день', 'ночь', 'сумерки', \n",
    "                             'солнце', 'дождь', 'снег']\n",
    "    example_2_res_data = [\n",
    "        [1, 'день', 'дождь', 1, 0, 0, 0, 1, 0],\n",
    "        [2, 'ночь', 'снег', 0, 1, 0, 0, 0, 1],\n",
    "        [3, 'день', 'солнце', 1, 0, 0, 1, 0, 0],\n",
    "        [4, 'день', 'солнце', 1, 0, 0, 1, 0, 0],\n",
    "        [5, 'сумерки', 'дождь', 0, 0, 1, 0, 1, 0],\n",
    "    ]\n",
    "    example_2_res_table = pd.DataFrame(columns=example_2_res_columns, data=example_2_res_data)\n",
    "    \n",
    "    compare_tables(categorical_to_binary_solution(example_2_table, example_2_factors),\n",
    "                   example_2_res_table,\n",
    "                   example_2_factors)\n",
    "    \n",
    "    print('Все тесты прошли успешно!')"
   ]
  },
  {
   "cell_type": "code",
   "execution_count": null,
   "id": "fdea9a62",
   "metadata": {},
   "outputs": [],
   "source": [
    "categorical_to_binary_tests()"
   ]
  },
  {
   "cell_type": "markdown",
   "id": "ff7851cc",
   "metadata": {},
   "source": [
    "## Целевое кодирование"
   ]
  },
  {
   "cell_type": "code",
   "execution_count": null,
   "id": "3ca89c0f",
   "metadata": {},
   "outputs": [],
   "source": [
    "def round_to_2(x):\n",
    "    \"\"\"\n",
    "    Принимает число и возвращает результат его округления\n",
    "    до 2 знаков после запятой.\n",
    "    \n",
    "    Аргументы:\n",
    "        x: Число.\n",
    "        \n",
    "    Возвращаемое значение:\n",
    "        Результат округления числа до 2 знаков после запятой.\n",
    "    \"\"\"\n",
    "    \n",
    "    return round(x, 2)"
   ]
  },
  {
   "cell_type": "code",
   "execution_count": null,
   "id": "a2ab1b78",
   "metadata": {},
   "outputs": [],
   "source": [
    "def target_coding_solution(data, factor_column, target_column):\n",
    "    \"\"\"\n",
    "    Принимает таблицу и производит в ней целевое кодирование заданного фактора.\n",
    "    \n",
    "    Аргументы:\n",
    "        data: Исходная таблица.\n",
    "        factor_column: Название категориального фактора исходной таблицы, который нужно закодировать.\n",
    "        target_column: Название колонки, в которой содержится предсказываемое по данным значение.\n",
    "        \n",
    "    Возвращаемое значение:\n",
    "        Функция ничего не возвращает. Однако в результате её запуска в исходной таблице должна появиться\n",
    "        новая колонка с названием \"encoded\", в которой представлен результат кодирования\n",
    "        фактора \"factor_column\".\n",
    "    \"\"\"\n",
    "    \n",
    "    pass"
   ]
  },
  {
   "cell_type": "code",
   "execution_count": null,
   "id": "26519607",
   "metadata": {},
   "outputs": [],
   "source": [
    "def target_coding_tests():\n",
    "    def compare_tables(table_calc, table_real):\n",
    "        for factor in factors:\n",
    "            vals = list(table_real[factor].unique())\n",
    "            \n",
    "            for val in vals:\n",
    "                assert list(table_calc['encoded']) == list(table_real[val])\n",
    "                \n",
    "    example_1_columns = ['Фактор 1', 'Фактор 2', 'Предсказание']\n",
    "    example_1_data = [\n",
    "        ['a', 'значение 1', 1],\n",
    "        ['a', 'значение 2', 3],\n",
    "        ['aa', 'значение 3', 3]\n",
    "    ]\n",
    "    example_1_table = pd.DataFrame(columns=example_1_columns, data=example_1_data)\n",
    "    example_1_factor = 'Фактор 1'\n",
    "    example_1_target_factor = 'Предсказание'\n",
    "    \n",
    "    target_coding_solution(example_1_table, example_1_factor, example_1_target_factor)\n",
    "    \n",
    "    example_1_res = [2.0, 2.0, 3.0]\n",
    "    \n",
    "    assert list(example_1_table['encoded']) == example_1_res\n",
    "    \n",
    "    example_2_columns = ['A', 'B', 'C', 'D', 'E']\n",
    "    example_2_data = [\n",
    "        ['a', 'bb', 'ccc', 'dd', 1],\n",
    "        ['aa', 'b', 'ccc', 'ddd', 7],\n",
    "        ['a', 'bb', 'ccc', 'dd', 6],\n",
    "        ['aa', 'b', 'ccc', 'd', 5],\n",
    "        ['a', 'bb', 'ccc', 'd', 1]\n",
    "    ]\n",
    "    example_2_table = pd.DataFrame(columns=example_2_columns, data=example_2_data)\n",
    "    example_2_factor = 'D'\n",
    "    example_2_target_factor = 'E'\n",
    "    \n",
    "    target_coding_solution(example_2_table, example_2_factor, example_2_target_factor)\n",
    "    \n",
    "    example_2_res = [3.5, 7.0, 3.5, 3.0, 3.0]\n",
    "    \n",
    "    assert list(example_2_table['encoded']) == example_2_res\n",
    "    \n",
    "    print('Все тесты прошли успешно!')"
   ]
  },
  {
   "cell_type": "code",
   "execution_count": null,
   "id": "82926dc3",
   "metadata": {},
   "outputs": [],
   "source": [
    "target_coding_tests()"
   ]
  },
  {
   "cell_type": "markdown",
   "id": "01d28ff6",
   "metadata": {},
   "source": [
    "## Стандартизация факторов"
   ]
  },
  {
   "cell_type": "code",
   "execution_count": null,
   "id": "bcca4f20",
   "metadata": {},
   "outputs": [],
   "source": [
    "def standard_deviation_solution(column):\n",
    "    \"\"\"\n",
    "    Вычисляет разброс значений в колонке.\n",
    "    \n",
    "    Аргументы:\n",
    "        column: Колонка с численными значениями.\n",
    "        \n",
    "    Возвращаемое значение:\n",
    "        Величина разброса значений в колонке, округлённая до 2 знаков после запятой.\n",
    "    \"\"\"\n",
    "    \n",
    "    pass"
   ]
  },
  {
   "cell_type": "code",
   "execution_count": null,
   "id": "7d5a622f",
   "metadata": {},
   "outputs": [],
   "source": [
    "def standard_deviation_tests():\n",
    "    example_1_column = pd.Series([1, 2, 1, 3, 4, 5])\n",
    "    example_1_res = 1.49\n",
    "    \n",
    "    assert standard_deviation_solution(example_1_column) == example_1_res\n",
    "    \n",
    "    example_2_column = pd.Series([5, 5, 5, 5, 5])\n",
    "    example_2_res = 0.0\n",
    "    \n",
    "    assert standard_deviation_solution(example_2_column) == example_2_res\n",
    "    \n",
    "    print('Все тесты прошли успешно!')"
   ]
  },
  {
   "cell_type": "code",
   "execution_count": null,
   "id": "a27239bb",
   "metadata": {},
   "outputs": [],
   "source": [
    "standard_deviation_tests()"
   ]
  },
  {
   "cell_type": "code",
   "execution_count": null,
   "id": "636cb3fd",
   "metadata": {},
   "outputs": [],
   "source": [
    "def standartize_column_solution(column):\n",
    "    \"\"\"\n",
    "    Производит стандартизацию значений в колонке.\n",
    "    \n",
    "    Аргументы:\n",
    "        column: Колонка с численными значениями.\n",
    "        \n",
    "    Возвращаемое значение:\n",
    "        Возвращает колонку со стандартизированными значениями.\n",
    "        То есть из каждого из исходных значений вычтено среднее, после чего разница разделена на значение разброса.\n",
    "        \n",
    "        Каждое значение в итоговой колонке должно быть округлено до 2 знаков после запятой.\n",
    "    \"\"\"\n",
    "    \n",
    "    pass"
   ]
  },
  {
   "cell_type": "code",
   "execution_count": null,
   "id": "83e6b3af",
   "metadata": {},
   "outputs": [],
   "source": [
    "def standartize_column_tests():\n",
    "    example_1_column = pd.Series([1, 2, 1, 3, 4, 5])\n",
    "    example_1_res = [-1.12, -0.45, -1.12, 0.22, 0.89, 1.57]\n",
    "    \n",
    "    assert list(standartize_column_solution(example_1_column)) == example_1_res\n",
    "    \n",
    "    example_2_column = pd.Series([5, 5, 5, 5, 5])\n",
    "    example_2_res = [0.0, 0.0, 0.0, 0.0, 0.0]\n",
    "    \n",
    "    assert list(standartize_column_solution(example_2_column)) == example_2_res\n",
    "    \n",
    "    print('Все тесты прошли успешно!')"
   ]
  },
  {
   "cell_type": "code",
   "execution_count": null,
   "id": "c929de6d",
   "metadata": {},
   "outputs": [],
   "source": [
    "standartize_column_tests()"
   ]
  },
  {
   "cell_type": "markdown",
   "id": "d76f9f24",
   "metadata": {},
   "source": [
    "## Корреляция"
   ]
  },
  {
   "cell_type": "code",
   "execution_count": null,
   "id": "44f43753",
   "metadata": {},
   "outputs": [],
   "source": [
    "def correlation_solution(column_x, column_y):\n",
    "    \"\"\"\n",
    "    Вычисляет корреляцию значений двух колонок.\n",
    "    \n",
    "    Аргументы:\n",
    "        column_x: Первая колонка с численными значениями.\n",
    "        column_y: Вторая колонка с численными значениями.\n",
    "        \n",
    "    Возвращаемое значение:\n",
    "        Возвращает корреляцию значений двух колонок, округлённую до 2 знаков после запятой.\n",
    "    \"\"\"\n",
    "    \n",
    "    pass"
   ]
  },
  {
   "cell_type": "code",
   "execution_count": null,
   "id": "6fb9030f",
   "metadata": {},
   "outputs": [],
   "source": [
    "def correlation_tests():\n",
    "    example_1_column_x = pd.Series([1, 2, 1, 3, 4, 5])\n",
    "    example_1_column_y = pd.Series([0, 5, 3, 8, 9, 1])\n",
    "    example_1_res = 0.29\n",
    "    \n",
    "    assert correlation_solution(example_1_column_x, example_1_column_y) == example_1_res\n",
    "    \n",
    "    example_2_column_x = pd.Series([1, 2, 1, 3, 4, 5])\n",
    "    example_2_column_y = pd.Series([1, 2, 1, 3, 4, 5])\n",
    "    example_2_res = 1.0\n",
    "    \n",
    "    assert correlation_solution(example_2_column_x, example_2_column_y) == example_2_res\n",
    "    \n",
    "    print('Все тесты прошли успешно!')"
   ]
  },
  {
   "cell_type": "code",
   "execution_count": null,
   "id": "703ae027",
   "metadata": {},
   "outputs": [],
   "source": [
    "correlation_tests()"
   ]
  },
  {
   "cell_type": "code",
   "execution_count": null,
   "id": "e75ad9df",
   "metadata": {},
   "outputs": [],
   "source": [
    "def correlation_table_solution(table):\n",
    "    \"\"\"\n",
    "    Принимает на вход таблицу с данными, а возвращает таблицу со значениями\n",
    "    корреляции колонок исходной таблицы друг с другом.\n",
    "    \n",
    "    Аргументы:\n",
    "        table: Таблица с численными значениями в формате pandas.\n",
    "        \n",
    "    Возвращаемое значение:\n",
    "        Возвращает таблицу корреляции между колонками исходной таблицы в формате списка списков.\n",
    "        В ячейке таблицы с координатами ij (где i — индекс строки, а j — индекс колонки)\n",
    "        должна быть записана корреляция значений i-ой колонки исходной таблицы с j-ой колонкой\n",
    "        исходной таблицы. Значение корреляции должно быть округлено до 2 знаков после запятой.\n",
    "    \"\"\"\n",
    "    \n",
    "    pass"
   ]
  },
  {
   "cell_type": "code",
   "execution_count": null,
   "id": "41d18fa1",
   "metadata": {},
   "outputs": [],
   "source": [
    "def correlation_table_tests():\n",
    "    example_1_table = [[1,-1],\n",
    "                       [2,7],\n",
    "                       [3,9],\n",
    "                       [4,5]]\n",
    "    example_1_df = pd.DataFrame(data=example_1_table, columns=['A', 'B'])\n",
    "    example_1_res = [[1.0, 0.6],\n",
    "                     [0.6, 1.0]]\n",
    "    \n",
    "    assert correlation_table_solution(example_1_df) == example_1_res\n",
    "    \n",
    "    example_2_table = [[17,81,19],\n",
    "                       [21,23,94],\n",
    "                       [55,71,83],\n",
    "                       [53,82,64],\n",
    "                       [25,62,72]]\n",
    "    example_2_df = pd.DataFrame(data=example_2_table, columns=['D', 'E', 'Q'])\n",
    "    example_2_res = [[1.0, 0.42, 0.33],\n",
    "                     [0.42, 1.0, -0.67],\n",
    "                     [0.33, -0.67, 1.0]]\n",
    "    \n",
    "    assert correlation_table_solution(example_2_df) == example_2_res\n",
    "    \n",
    "    print('Все тесты прошли успешно!')"
   ]
  },
  {
   "cell_type": "code",
   "execution_count": null,
   "id": "e78ac67b",
   "metadata": {},
   "outputs": [],
   "source": [
    "correlation_table_tests()"
   ]
  }
 ],
 "metadata": {
  "kernelspec": {
   "display_name": "Python 3 (ipykernel)",
   "language": "python",
   "name": "python3"
  },
  "language_info": {
   "codemirror_mode": {
    "name": "ipython",
    "version": 3
   },
   "file_extension": ".py",
   "mimetype": "text/x-python",
   "name": "python",
   "nbconvert_exporter": "python",
   "pygments_lexer": "ipython3",
   "version": "3.9.0"
  }
 },
 "nbformat": 4,
 "nbformat_minor": 5
}
