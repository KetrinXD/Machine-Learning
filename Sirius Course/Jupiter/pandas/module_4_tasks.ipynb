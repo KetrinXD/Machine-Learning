{
 "cells": [
  {
   "cell_type": "code",
   "execution_count": null,
   "id": "e1097d70",
   "metadata": {},
   "outputs": [],
   "source": [
    "# Перед началом работы с библиотеками pandas и seaborn необходимо установить их в Python.\n",
    "# Сделать это можно, исполнив данную ячейку\n",
    "!pip3 install pandas\n",
    "!pip3 install seaborn\n",
    "!pip3 install numpy\n",
    "!pip install --upgrade numpy\n",
    "!pip install --upgrade pandas"
   ]
  },
  {
   "cell_type": "markdown",
   "id": "01d28ff6",
   "metadata": {},
   "source": [
    "## Стандартизация факторов"
   ]
  },
  {
   "cell_type": "code",
   "execution_count": null,
   "id": "bcca4f20",
   "metadata": {},
   "outputs": [],
   "source": [
    "def standard_deviation_solution(column):\n",
    "    _x = sum(column) / \n",
    "    \n",
    "    pass"
   ]
  },
  {
   "cell_type": "code",
   "execution_count": null,
   "id": "7d5a622f",
   "metadata": {},
   "outputs": [],
   "source": [
    "def standard_deviation_tests():\n",
    "    example_1_column = pd.Series([1, 2, 1, 3, 4, 5])\n",
    "    example_1_res = 1.49\n",
    "    \n",
    "    assert standard_deviation_solution(example_1_column) == example_1_res\n",
    "    \n",
    "    example_2_column = pd.Series([5, 5, 5, 5, 5])\n",
    "    example_2_res = 0.0\n",
    "    \n",
    "    assert standard_deviation_solution(example_2_column) == example_2_res\n",
    "    \n",
    "    print('Все тесты прошли успешно!')"
   ]
  },
  {
   "cell_type": "code",
   "execution_count": null,
   "id": "a27239bb",
   "metadata": {},
   "outputs": [],
   "source": [
    "standard_deviation_tests()"
   ]
  },
  {
   "cell_type": "code",
   "execution_count": null,
   "id": "636cb3fd",
   "metadata": {},
   "outputs": [],
   "source": [
    "def standartize_column_solution(column):\n",
    "    \"\"\"\n",
    "    Производит стандартизацию значений в колонке.\n",
    "    \n",
    "    Аргументы:\n",
    "        column: Колонка с численными значениями.\n",
    "        \n",
    "    Возвращаемое значение:\n",
    "        Возвращает колонку со стандартизированными значениями.\n",
    "        То есть из каждого из исходных значений вычтено среднее, после чего разница разделена на значение разброса.\n",
    "        \n",
    "        Каждое значение в итоговой колонке должно быть округлено до 2 знаков после запятой.\n",
    "    \"\"\"\n",
    "    \n",
    "    pass"
   ]
  },
  {
   "cell_type": "code",
   "execution_count": null,
   "id": "83e6b3af",
   "metadata": {},
   "outputs": [],
   "source": [
    "def standartize_column_tests():\n",
    "    example_1_column = pd.Series([1, 2, 1, 3, 4, 5])\n",
    "    example_1_res = [-1.12, -0.45, -1.12, 0.22, 0.89, 1.57]\n",
    "    \n",
    "    assert list(standartize_column_solution(example_1_column)) == example_1_res\n",
    "    \n",
    "    example_2_column = pd.Series([5, 5, 5, 5, 5])\n",
    "    example_2_res = [0.0, 0.0, 0.0, 0.0, 0.0]\n",
    "    \n",
    "    assert list(standartize_column_solution(example_2_column)) == example_2_res\n",
    "    \n",
    "    print('Все тесты прошли успешно!')"
   ]
  },
  {
   "cell_type": "code",
   "execution_count": null,
   "id": "c929de6d",
   "metadata": {},
   "outputs": [],
   "source": [
    "standartize_column_tests()"
   ]
  },
  {
   "cell_type": "markdown",
   "id": "d76f9f24",
   "metadata": {},
   "source": [
    "## Корреляция"
   ]
  },
  {
   "cell_type": "code",
   "execution_count": null,
   "id": "44f43753",
   "metadata": {},
   "outputs": [],
   "source": [
    "def correlation_solution(column_x, column_y):\n",
    "    \"\"\"\n",
    "    Вычисляет корреляцию значений двух колонок.\n",
    "    \n",
    "    Аргументы:\n",
    "        column_x: Первая колонка с численными значениями.\n",
    "        column_y: Вторая колонка с численными значениями.\n",
    "        \n",
    "    Возвращаемое значение:\n",
    "        Возвращает корреляцию значений двух колонок, округлённую до 2 знаков после запятой.\n",
    "    \"\"\"\n",
    "    \n",
    "    pass"
   ]
  },
  {
   "cell_type": "code",
   "execution_count": null,
   "id": "6fb9030f",
   "metadata": {},
   "outputs": [],
   "source": [
    "def correlation_tests():\n",
    "    example_1_column_x = pd.Series([1, 2, 1, 3, 4, 5])\n",
    "    example_1_column_y = pd.Series([0, 5, 3, 8, 9, 1])\n",
    "    example_1_res = 0.29\n",
    "    \n",
    "    assert correlation_solution(example_1_column_x, example_1_column_y) == example_1_res\n",
    "    \n",
    "    example_2_column_x = pd.Series([1, 2, 1, 3, 4, 5])\n",
    "    example_2_column_y = pd.Series([1, 2, 1, 3, 4, 5])\n",
    "    example_2_res = 1.0\n",
    "    \n",
    "    assert correlation_solution(example_2_column_x, example_2_column_y) == example_2_res\n",
    "    \n",
    "    print('Все тесты прошли успешно!')"
   ]
  },
  {
   "cell_type": "code",
   "execution_count": null,
   "id": "703ae027",
   "metadata": {},
   "outputs": [],
   "source": [
    "correlation_tests()"
   ]
  },
  {
   "cell_type": "code",
   "execution_count": null,
   "id": "e75ad9df",
   "metadata": {},
   "outputs": [],
   "source": [
    "def correlation_table_solution(table):\n",
    "    \"\"\"\n",
    "    Принимает на вход таблицу с данными, а возвращает таблицу со значениями\n",
    "    корреляции колонок исходной таблицы друг с другом.\n",
    "    \n",
    "    Аргументы:\n",
    "        table: Таблица с численными значениями в формате pandas.\n",
    "        \n",
    "    Возвращаемое значение:\n",
    "        Возвращает таблицу корреляции между колонками исходной таблицы в формате списка списков.\n",
    "        В ячейке таблицы с координатами ij (где i — индекс строки, а j — индекс колонки)\n",
    "        должна быть записана корреляция значений i-ой колонки исходной таблицы с j-ой колонкой\n",
    "        исходной таблицы. Значение корреляции должно быть округлено до 2 знаков после запятой.\n",
    "    \"\"\"\n",
    "    \n",
    "    pass"
   ]
  },
  {
   "cell_type": "code",
   "execution_count": null,
   "id": "41d18fa1",
   "metadata": {},
   "outputs": [],
   "source": [
    "def correlation_table_tests():\n",
    "    example_1_table = [[1,-1],\n",
    "                       [2,7],\n",
    "                       [3,9],\n",
    "                       [4,5]]\n",
    "    example_1_df = pd.DataFrame(data=example_1_table, columns=['A', 'B'])\n",
    "    example_1_res = [[1.0, 0.6],\n",
    "                     [0.6, 1.0]]\n",
    "    \n",
    "    assert correlation_table_solution(example_1_df) == example_1_res\n",
    "    \n",
    "    example_2_table = [[17,81,19],\n",
    "                       [21,23,94],\n",
    "                       [55,71,83],\n",
    "                       [53,82,64],\n",
    "                       [25,62,72]]\n",
    "    example_2_df = pd.DataFrame(data=example_2_table, columns=['D', 'E', 'Q'])\n",
    "    example_2_res = [[1.0, 0.42, 0.33],\n",
    "                     [0.42, 1.0, -0.67],\n",
    "                     [0.33, -0.67, 1.0]]\n",
    "    \n",
    "    assert correlation_table_solution(example_2_df) == example_2_res\n",
    "    \n",
    "    print('Все тесты прошли успешно!')"
   ]
  },
  {
   "cell_type": "code",
   "execution_count": null,
   "id": "e78ac67b",
   "metadata": {},
   "outputs": [],
   "source": [
    "correlation_table_tests()"
   ]
  }
 ],
 "metadata": {
  "kernelspec": {
   "display_name": "Python 3 (ipykernel)",
   "language": "python",
   "name": "python3"
  },
  "language_info": {
   "codemirror_mode": {
    "name": "ipython",
    "version": 3
   },
   "file_extension": ".py",
   "mimetype": "text/x-python",
   "name": "python",
   "nbconvert_exporter": "python",
   "pygments_lexer": "ipython3",
   "version": "3.9.0"
  }
 },
 "nbformat": 4,
 "nbformat_minor": 5
}
