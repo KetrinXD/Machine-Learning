{
 "cells": [
  {
   "cell_type": "code",
   "execution_count": 1,
   "id": "49e42b9d",
   "metadata": {},
   "outputs": [],
   "source": [
    "import pandas as pd\n",
    "import seaborn as sns\n",
    "\n",
    "from math import floor\n",
    "from copy import deepcopy\n",
    "\n",
    "import random"
   ]
  },
  {
   "cell_type": "code",
   "execution_count": 2,
   "id": "88d6f367",
   "metadata": {},
   "outputs": [],
   "source": [
    "sns.set(rc={'figure.figsize': (11.7, 8.27)})"
   ]
  },
  {
   "cell_type": "code",
   "execution_count": 5,
   "id": "80f4649f",
   "metadata": {},
   "outputs": [
    {
     "name": "stdout",
     "output_type": "stream",
     "text": [
      "Defaulting to user installation because normal site-packages is not writeable\n",
      "Collecting sklearn\n",
      "  Using cached sklearn-0.0.post1-py3-none-any.whl\n",
      "Installing collected packages: sklearn\n",
      "Successfully installed sklearn-0.0.post1\n"
     ]
    }
   ],
   "source": [
    "# Установка библиотеки sklearn\n",
    "!pip3 install sklearn"
   ]
  },
  {
   "cell_type": "code",
   "execution_count": 4,
   "id": "4dafa300",
   "metadata": {
    "scrolled": true
   },
   "outputs": [
    {
     "ename": "ImportError",
     "evalue": "DLL load failed while importing _iterative: Не найден указанный модуль.",
     "output_type": "error",
     "traceback": [
      "\u001b[1;31m---------------------------------------------------------------------------\u001b[0m",
      "\u001b[1;31mImportError\u001b[0m                               Traceback (most recent call last)",
      "Cell \u001b[1;32mIn[4], line 1\u001b[0m\n\u001b[1;32m----> 1\u001b[0m \u001b[38;5;28;01mfrom\u001b[39;00m \u001b[38;5;21;01msklearn\u001b[39;00m\u001b[38;5;21;01m.\u001b[39;00m\u001b[38;5;21;01mlinear_model\u001b[39;00m \u001b[38;5;28;01mimport\u001b[39;00m LinearRegression\n",
      "File \u001b[1;32m~\\AppData\\Roaming\\Python\\Python39\\site-packages\\sklearn\\__init__.py:82\u001b[0m\n\u001b[0;32m     80\u001b[0m \u001b[38;5;28;01mfrom\u001b[39;00m \u001b[38;5;21;01m.\u001b[39;00m \u001b[38;5;28;01mimport\u001b[39;00m _distributor_init  \u001b[38;5;66;03m# noqa: F401\u001b[39;00m\n\u001b[0;32m     81\u001b[0m \u001b[38;5;28;01mfrom\u001b[39;00m \u001b[38;5;21;01m.\u001b[39;00m \u001b[38;5;28;01mimport\u001b[39;00m __check_build  \u001b[38;5;66;03m# noqa: F401\u001b[39;00m\n\u001b[1;32m---> 82\u001b[0m \u001b[38;5;28;01mfrom\u001b[39;00m \u001b[38;5;21;01m.\u001b[39;00m\u001b[38;5;21;01mbase\u001b[39;00m \u001b[38;5;28;01mimport\u001b[39;00m clone\n\u001b[0;32m     83\u001b[0m \u001b[38;5;28;01mfrom\u001b[39;00m \u001b[38;5;21;01m.\u001b[39;00m\u001b[38;5;21;01mutils\u001b[39;00m\u001b[38;5;21;01m.\u001b[39;00m\u001b[38;5;21;01m_show_versions\u001b[39;00m \u001b[38;5;28;01mimport\u001b[39;00m show_versions\n\u001b[0;32m     85\u001b[0m __all__ \u001b[38;5;241m=\u001b[39m [\n\u001b[0;32m     86\u001b[0m     \u001b[38;5;124m\"\u001b[39m\u001b[38;5;124mcalibration\u001b[39m\u001b[38;5;124m\"\u001b[39m,\n\u001b[0;32m     87\u001b[0m     \u001b[38;5;124m\"\u001b[39m\u001b[38;5;124mcluster\u001b[39m\u001b[38;5;124m\"\u001b[39m,\n\u001b[1;32m   (...)\u001b[0m\n\u001b[0;32m    128\u001b[0m     \u001b[38;5;124m\"\u001b[39m\u001b[38;5;124mshow_versions\u001b[39m\u001b[38;5;124m\"\u001b[39m,\n\u001b[0;32m    129\u001b[0m ]\n",
      "File \u001b[1;32m~\\AppData\\Roaming\\Python\\Python39\\site-packages\\sklearn\\base.py:17\u001b[0m\n\u001b[0;32m     15\u001b[0m \u001b[38;5;28;01mfrom\u001b[39;00m \u001b[38;5;21;01m.\u001b[39;00m \u001b[38;5;28;01mimport\u001b[39;00m __version__\n\u001b[0;32m     16\u001b[0m \u001b[38;5;28;01mfrom\u001b[39;00m \u001b[38;5;21;01m.\u001b[39;00m\u001b[38;5;21;01m_config\u001b[39;00m \u001b[38;5;28;01mimport\u001b[39;00m get_config\n\u001b[1;32m---> 17\u001b[0m \u001b[38;5;28;01mfrom\u001b[39;00m \u001b[38;5;21;01m.\u001b[39;00m\u001b[38;5;21;01mutils\u001b[39;00m \u001b[38;5;28;01mimport\u001b[39;00m _IS_32BIT\n\u001b[0;32m     18\u001b[0m \u001b[38;5;28;01mfrom\u001b[39;00m \u001b[38;5;21;01m.\u001b[39;00m\u001b[38;5;21;01mutils\u001b[39;00m\u001b[38;5;21;01m.\u001b[39;00m\u001b[38;5;21;01m_set_output\u001b[39;00m \u001b[38;5;28;01mimport\u001b[39;00m _SetOutputMixin\n\u001b[0;32m     19\u001b[0m \u001b[38;5;28;01mfrom\u001b[39;00m \u001b[38;5;21;01m.\u001b[39;00m\u001b[38;5;21;01mutils\u001b[39;00m\u001b[38;5;21;01m.\u001b[39;00m\u001b[38;5;21;01m_tags\u001b[39;00m \u001b[38;5;28;01mimport\u001b[39;00m (\n\u001b[0;32m     20\u001b[0m     _DEFAULT_TAGS,\n\u001b[0;32m     21\u001b[0m )\n",
      "File \u001b[1;32m~\\AppData\\Roaming\\Python\\Python39\\site-packages\\sklearn\\utils\\__init__.py:17\u001b[0m\n\u001b[0;32m     15\u001b[0m \u001b[38;5;28;01mimport\u001b[39;00m \u001b[38;5;21;01mwarnings\u001b[39;00m\n\u001b[0;32m     16\u001b[0m \u001b[38;5;28;01mimport\u001b[39;00m \u001b[38;5;21;01mnumpy\u001b[39;00m \u001b[38;5;28;01mas\u001b[39;00m \u001b[38;5;21;01mnp\u001b[39;00m\n\u001b[1;32m---> 17\u001b[0m \u001b[38;5;28;01mfrom\u001b[39;00m \u001b[38;5;21;01mscipy\u001b[39;00m\u001b[38;5;21;01m.\u001b[39;00m\u001b[38;5;21;01msparse\u001b[39;00m \u001b[38;5;28;01mimport\u001b[39;00m issparse\n\u001b[0;32m     19\u001b[0m \u001b[38;5;28;01mfrom\u001b[39;00m \u001b[38;5;21;01m.\u001b[39;00m\u001b[38;5;21;01mmurmurhash\u001b[39;00m \u001b[38;5;28;01mimport\u001b[39;00m murmurhash3_32\n\u001b[0;32m     20\u001b[0m \u001b[38;5;28;01mfrom\u001b[39;00m \u001b[38;5;21;01m.\u001b[39;00m\u001b[38;5;21;01mclass_weight\u001b[39;00m \u001b[38;5;28;01mimport\u001b[39;00m compute_class_weight, compute_sample_weight\n",
      "File \u001b[1;32m~\\AppData\\Roaming\\Python\\Python39\\site-packages\\scipy\\sparse\\__init__.py:283\u001b[0m\n\u001b[0;32m    278\u001b[0m \u001b[38;5;28;01mfrom\u001b[39;00m \u001b[38;5;21;01m.\u001b[39;00m\u001b[38;5;21;01m_arrays\u001b[39;00m \u001b[38;5;28;01mimport\u001b[39;00m (\n\u001b[0;32m    279\u001b[0m     csr_array, csc_array, lil_array, dok_array, coo_array, dia_array, bsr_array\n\u001b[0;32m    280\u001b[0m )\n\u001b[0;32m    282\u001b[0m \u001b[38;5;66;03m# For backward compatibility with v0.19.\u001b[39;00m\n\u001b[1;32m--> 283\u001b[0m \u001b[38;5;28;01mfrom\u001b[39;00m \u001b[38;5;21;01m.\u001b[39;00m \u001b[38;5;28;01mimport\u001b[39;00m csgraph\n\u001b[0;32m    285\u001b[0m \u001b[38;5;66;03m# Deprecated namespaces, to be removed in v2.0.0\u001b[39;00m\n\u001b[0;32m    286\u001b[0m \u001b[38;5;28;01mfrom\u001b[39;00m \u001b[38;5;21;01m.\u001b[39;00m \u001b[38;5;28;01mimport\u001b[39;00m (\n\u001b[0;32m    287\u001b[0m     base, bsr, compressed, construct, coo, csc, csr, data, dia, dok, extract,\n\u001b[0;32m    288\u001b[0m     lil, sparsetools, sputils\n\u001b[0;32m    289\u001b[0m )\n",
      "File \u001b[1;32m~\\AppData\\Roaming\\Python\\Python39\\site-packages\\scipy\\sparse\\csgraph\\__init__.py:182\u001b[0m\n\u001b[0;32m    154\u001b[0m __docformat__ \u001b[38;5;241m=\u001b[39m \u001b[38;5;124m\"\u001b[39m\u001b[38;5;124mrestructuredtext en\u001b[39m\u001b[38;5;124m\"\u001b[39m\n\u001b[0;32m    156\u001b[0m __all__ \u001b[38;5;241m=\u001b[39m [\u001b[38;5;124m'\u001b[39m\u001b[38;5;124mconnected_components\u001b[39m\u001b[38;5;124m'\u001b[39m,\n\u001b[0;32m    157\u001b[0m            \u001b[38;5;124m'\u001b[39m\u001b[38;5;124mlaplacian\u001b[39m\u001b[38;5;124m'\u001b[39m,\n\u001b[0;32m    158\u001b[0m            \u001b[38;5;124m'\u001b[39m\u001b[38;5;124mshortest_path\u001b[39m\u001b[38;5;124m'\u001b[39m,\n\u001b[1;32m   (...)\u001b[0m\n\u001b[0;32m    179\u001b[0m            \u001b[38;5;124m'\u001b[39m\u001b[38;5;124mcsgraph_to_masked\u001b[39m\u001b[38;5;124m'\u001b[39m,\n\u001b[0;32m    180\u001b[0m            \u001b[38;5;124m'\u001b[39m\u001b[38;5;124mNegativeCycleError\u001b[39m\u001b[38;5;124m'\u001b[39m]\n\u001b[1;32m--> 182\u001b[0m \u001b[38;5;28;01mfrom\u001b[39;00m \u001b[38;5;21;01m.\u001b[39;00m\u001b[38;5;21;01m_laplacian\u001b[39;00m \u001b[38;5;28;01mimport\u001b[39;00m laplacian\n\u001b[0;32m    183\u001b[0m \u001b[38;5;28;01mfrom\u001b[39;00m \u001b[38;5;21;01m.\u001b[39;00m\u001b[38;5;21;01m_shortest_path\u001b[39;00m \u001b[38;5;28;01mimport\u001b[39;00m (\n\u001b[0;32m    184\u001b[0m     shortest_path, floyd_warshall, dijkstra, bellman_ford, johnson,\n\u001b[0;32m    185\u001b[0m     NegativeCycleError\n\u001b[0;32m    186\u001b[0m )\n\u001b[0;32m    187\u001b[0m \u001b[38;5;28;01mfrom\u001b[39;00m \u001b[38;5;21;01m.\u001b[39;00m\u001b[38;5;21;01m_traversal\u001b[39;00m \u001b[38;5;28;01mimport\u001b[39;00m (\n\u001b[0;32m    188\u001b[0m     breadth_first_order, depth_first_order, breadth_first_tree,\n\u001b[0;32m    189\u001b[0m     depth_first_tree, connected_components\n\u001b[0;32m    190\u001b[0m )\n",
      "File \u001b[1;32m~\\AppData\\Roaming\\Python\\Python39\\site-packages\\scipy\\sparse\\csgraph\\_laplacian.py:7\u001b[0m\n\u001b[0;32m      5\u001b[0m \u001b[38;5;28;01mimport\u001b[39;00m \u001b[38;5;21;01mnumpy\u001b[39;00m \u001b[38;5;28;01mas\u001b[39;00m \u001b[38;5;21;01mnp\u001b[39;00m\n\u001b[0;32m      6\u001b[0m \u001b[38;5;28;01mfrom\u001b[39;00m \u001b[38;5;21;01mscipy\u001b[39;00m\u001b[38;5;21;01m.\u001b[39;00m\u001b[38;5;21;01msparse\u001b[39;00m \u001b[38;5;28;01mimport\u001b[39;00m isspmatrix\n\u001b[1;32m----> 7\u001b[0m \u001b[38;5;28;01mfrom\u001b[39;00m \u001b[38;5;21;01mscipy\u001b[39;00m\u001b[38;5;21;01m.\u001b[39;00m\u001b[38;5;21;01msparse\u001b[39;00m\u001b[38;5;21;01m.\u001b[39;00m\u001b[38;5;21;01mlinalg\u001b[39;00m \u001b[38;5;28;01mimport\u001b[39;00m LinearOperator\n\u001b[0;32m     10\u001b[0m \u001b[38;5;66;03m###############################################################################\u001b[39;00m\n\u001b[0;32m     11\u001b[0m \u001b[38;5;66;03m# Graph laplacian\u001b[39;00m\n\u001b[0;32m     12\u001b[0m \u001b[38;5;28;01mdef\u001b[39;00m \u001b[38;5;21mlaplacian\u001b[39m(\n\u001b[0;32m     13\u001b[0m     csgraph,\n\u001b[0;32m     14\u001b[0m     normed\u001b[38;5;241m=\u001b[39m\u001b[38;5;28;01mFalse\u001b[39;00m,\n\u001b[1;32m   (...)\u001b[0m\n\u001b[0;32m     21\u001b[0m     symmetrized\u001b[38;5;241m=\u001b[39m\u001b[38;5;28;01mFalse\u001b[39;00m,\n\u001b[0;32m     22\u001b[0m ):\n",
      "File \u001b[1;32m~\\AppData\\Roaming\\Python\\Python39\\site-packages\\scipy\\sparse\\linalg\\__init__.py:120\u001b[0m\n\u001b[0;32m      1\u001b[0m \u001b[38;5;124;03m\"\"\"\u001b[39;00m\n\u001b[0;32m      2\u001b[0m \u001b[38;5;124;03mSparse linear algebra (:mod:`scipy.sparse.linalg`)\u001b[39;00m\n\u001b[0;32m      3\u001b[0m \u001b[38;5;124;03m==================================================\u001b[39;00m\n\u001b[1;32m   (...)\u001b[0m\n\u001b[0;32m    117\u001b[0m \n\u001b[0;32m    118\u001b[0m \u001b[38;5;124;03m\"\"\"\u001b[39;00m\n\u001b[1;32m--> 120\u001b[0m \u001b[38;5;28;01mfrom\u001b[39;00m \u001b[38;5;21;01m.\u001b[39;00m\u001b[38;5;21;01m_isolve\u001b[39;00m \u001b[38;5;28;01mimport\u001b[39;00m \u001b[38;5;241m*\u001b[39m\n\u001b[0;32m    121\u001b[0m \u001b[38;5;28;01mfrom\u001b[39;00m \u001b[38;5;21;01m.\u001b[39;00m\u001b[38;5;21;01m_dsolve\u001b[39;00m \u001b[38;5;28;01mimport\u001b[39;00m \u001b[38;5;241m*\u001b[39m\n\u001b[0;32m    122\u001b[0m \u001b[38;5;28;01mfrom\u001b[39;00m \u001b[38;5;21;01m.\u001b[39;00m\u001b[38;5;21;01m_interface\u001b[39;00m \u001b[38;5;28;01mimport\u001b[39;00m \u001b[38;5;241m*\u001b[39m\n",
      "File \u001b[1;32m~\\AppData\\Roaming\\Python\\Python39\\site-packages\\scipy\\sparse\\linalg\\_isolve\\__init__.py:4\u001b[0m\n\u001b[0;32m      1\u001b[0m \u001b[38;5;124m\"\u001b[39m\u001b[38;5;124mIterative Solvers for Sparse Linear Systems\u001b[39m\u001b[38;5;124m\"\u001b[39m\n\u001b[0;32m      3\u001b[0m \u001b[38;5;66;03m#from info import __doc__\u001b[39;00m\n\u001b[1;32m----> 4\u001b[0m \u001b[38;5;28;01mfrom\u001b[39;00m \u001b[38;5;21;01m.\u001b[39;00m\u001b[38;5;21;01miterative\u001b[39;00m \u001b[38;5;28;01mimport\u001b[39;00m \u001b[38;5;241m*\u001b[39m\n\u001b[0;32m      5\u001b[0m \u001b[38;5;28;01mfrom\u001b[39;00m \u001b[38;5;21;01m.\u001b[39;00m\u001b[38;5;21;01mminres\u001b[39;00m \u001b[38;5;28;01mimport\u001b[39;00m minres\n\u001b[0;32m      6\u001b[0m \u001b[38;5;28;01mfrom\u001b[39;00m \u001b[38;5;21;01m.\u001b[39;00m\u001b[38;5;21;01mlgmres\u001b[39;00m \u001b[38;5;28;01mimport\u001b[39;00m lgmres\n",
      "File \u001b[1;32m~\\AppData\\Roaming\\Python\\Python39\\site-packages\\scipy\\sparse\\linalg\\_isolve\\iterative.py:9\u001b[0m\n\u001b[0;32m      6\u001b[0m \u001b[38;5;28;01mfrom\u001b[39;00m \u001b[38;5;21;01mtextwrap\u001b[39;00m \u001b[38;5;28;01mimport\u001b[39;00m dedent\n\u001b[0;32m      7\u001b[0m \u001b[38;5;28;01mimport\u001b[39;00m \u001b[38;5;21;01mnumpy\u001b[39;00m \u001b[38;5;28;01mas\u001b[39;00m \u001b[38;5;21;01mnp\u001b[39;00m\n\u001b[1;32m----> 9\u001b[0m \u001b[38;5;28;01mfrom\u001b[39;00m \u001b[38;5;21;01m.\u001b[39;00m \u001b[38;5;28;01mimport\u001b[39;00m _iterative\n\u001b[0;32m     11\u001b[0m \u001b[38;5;28;01mfrom\u001b[39;00m \u001b[38;5;21;01mscipy\u001b[39;00m\u001b[38;5;21;01m.\u001b[39;00m\u001b[38;5;21;01msparse\u001b[39;00m\u001b[38;5;21;01m.\u001b[39;00m\u001b[38;5;21;01mlinalg\u001b[39;00m\u001b[38;5;21;01m.\u001b[39;00m\u001b[38;5;21;01m_interface\u001b[39;00m \u001b[38;5;28;01mimport\u001b[39;00m LinearOperator\n\u001b[0;32m     12\u001b[0m \u001b[38;5;28;01mfrom\u001b[39;00m \u001b[38;5;21;01m.\u001b[39;00m\u001b[38;5;21;01mutils\u001b[39;00m \u001b[38;5;28;01mimport\u001b[39;00m make_system\n",
      "\u001b[1;31mImportError\u001b[0m: DLL load failed while importing _iterative: Не найден указанный модуль."
     ]
    }
   ],
   "source": [
    "from sklearn.linear_model import LinearRegression"
   ]
  },
  {
   "cell_type": "code",
   "execution_count": 3,
   "id": "b17fa6ff",
   "metadata": {},
   "outputs": [],
   "source": [
    "class ShuffleOnceRandom():\n",
    "    \"\"\"\n",
    "    Генератор случайных чисел, который запрещает использовать\n",
    "    функцию shuffle больше одного раза.\n",
    "    \"\"\"\n",
    "    \n",
    "    def __init__(self, seed=None):\n",
    "        import random\n",
    "        \n",
    "        self._random_gen = random.Random(seed)\n",
    "        self._shuffle_cnt = 0\n",
    "        \n",
    "    def shuffle(self, l):\n",
    "        if self._shuffle_cnt > 0:\n",
    "            raise RuntimeError('Нельзя использовать функцию shuffle больше одного раза')\n",
    "            \n",
    "        self._shuffle_cnt += 1\n",
    "        self._random_gen.shuffle(l)"
   ]
  },
  {
   "cell_type": "code",
   "execution_count": null,
   "id": "2fdebbea",
   "metadata": {},
   "outputs": [],
   "source": [
    "class ChoicesNRandom():\n",
    "    \"\"\"\n",
    "    Генератор случайных чисел, который запрещает использовать\n",
    "    функцию choices больше n раз.\n",
    "    \"\"\"\n",
    "    \n",
    "    def __init__(self, seed=None, n=1):\n",
    "        import random\n",
    "        \n",
    "        self._random_gen = random.Random(seed)\n",
    "        self._choices_cnt = 0\n",
    "        self._n = n\n",
    "        \n",
    "    def choices(self, *args, **kwargs):\n",
    "        if self._choices_cnt >= self._n:\n",
    "            raise RuntimeError(f'Нельзя использовать функцию choices больше {self._n} раз')\n",
    "            \n",
    "        self._choices_cnt += 1\n",
    "        return self._random_gen.choices(*args, **kwargs)"
   ]
  },
  {
   "cell_type": "markdown",
   "id": "7ba1addb",
   "metadata": {},
   "source": [
    "# Разбиение на обучающую, валидационную и тестовую выборки"
   ]
  },
  {
   "cell_type": "code",
   "execution_count": null,
   "id": "67534ca9",
   "metadata": {},
   "outputs": [],
   "source": [
    "def train_test_split_solution(data, \n",
    "                              train_frac,\n",
    "                              random_gen):\n",
    "    \"\"\"\n",
    "    Разбивает переданный список объектов на обучающую и тестовую выборки.\n",
    "    \n",
    "    Аргументы:\n",
    "        data: Список объектов, который нужно разделить на части.\n",
    "        train_frac: Доля объектов, которые нужно отправить в обучающую выборку.\n",
    "        random_gen: Генератор случайных чисел.\n",
    "        \n",
    "    Возвращаемое значение:\n",
    "        Пара списков: обучающая выборка, тестовая выборка.\n",
    "    \"\"\"\n",
    "    \n",
    "    pass"
   ]
  },
  {
   "cell_type": "code",
   "execution_count": null,
   "id": "578fef89",
   "metadata": {},
   "outputs": [],
   "source": [
    "def train_test_split_tests():\n",
    "    example_1_data = [1, 2, 3, 4, 5, 6, 7, 8, 9, 10]\n",
    "    example_1_train_frac = 0.7\n",
    "    example_1_random_gen = ShuffleOnceRandom(0)\n",
    "    \n",
    "    example_1_res = [8, 9, 2, 6, 4, 5, 3], [1, 10, 7]\n",
    "    \n",
    "    assert train_test_split_solution(example_1_data, \n",
    "                                     example_1_train_frac, \n",
    "                                     example_1_random_gen) == example_1_res\n",
    "    \n",
    "    \n",
    "    example_2_data = [i % 5 for i in range(100)]\n",
    "    example_2_train_frac = 0.9\n",
    "    example_2_random_gen = ShuffleOnceRandom(0)\n",
    "    \n",
    "    example_2_res = [3, 3, 1, 2, 3, 3, 1, 1, 4, 4, 1, 3, 2, 1, 0, 2, 2, 2, 3, 1, 4, 1, 4, 0, 4, 0, 2, 4, 3, 2, 3, 1, 3, 4, 1, 3, 4, 3, 4, 4, 4, 0, 4, 0, 0, 1, 1, 1, 2, 2, 3, 0, 4, 0, 3, 1, 1, 0, 2, 0, 3, 2, 3, 0, 1, 0, 1, 0, 0, 4, 0, 1, 0, 2, 4, 2, 4, 3, 2, 3, 2, 4, 2, 0, 1, 2, 4, 2, 4, 0], [1, 3, 1, 2, 0, 3, 0, 3, 2, 4]\n",
    "    \n",
    "    assert train_test_split_solution(example_2_data, \n",
    "                                     example_2_train_frac, \n",
    "                                     example_2_random_gen) == example_2_res\n",
    "    \n",
    "    print('Все тесты прошли успешно!')"
   ]
  },
  {
   "cell_type": "code",
   "execution_count": null,
   "id": "835decd7",
   "metadata": {},
   "outputs": [],
   "source": [
    "train_test_split_tests()"
   ]
  },
  {
   "cell_type": "markdown",
   "id": "580cef6a",
   "metadata": {},
   "source": [
    "# Кросс-валидация"
   ]
  },
  {
   "cell_type": "code",
   "execution_count": null,
   "id": "b1c4fe20",
   "metadata": {},
   "outputs": [],
   "source": [
    "def round_to_3(x):\n",
    "    return round(x, 3)"
   ]
  },
  {
   "cell_type": "code",
   "execution_count": null,
   "id": "64562776",
   "metadata": {},
   "outputs": [],
   "source": [
    "def split_into_k(l, k):\n",
    "    \"\"\"\n",
    "    Разделяет список на k частей.\n",
    "    \n",
    "    Аргументы:\n",
    "        l: Список с объектами.\n",
    "        k: Число частей, на которые нужно разделить список.\n",
    "        \n",
    "    Возвращаемое значение:\n",
    "        Возвращает список из k частей исходного списка.\n",
    "    \"\"\"\n",
    "    \n",
    "    l_mod_k = len(l) % k\n",
    "    l_div_k = len(l) // k\n",
    "    \n",
    "    res = []\n",
    "    \n",
    "    for i in range(k):\n",
    "        res.append(l[i * l_div_k:(i + 1) * l_div_k])\n",
    "        \n",
    "    for i in range(l_mod_k):\n",
    "        res[i].append(l[l_div_k * k + i])\n",
    "        \n",
    "    return res\n",
    "\n",
    "def score_model(model, x_test, y_test):\n",
    "    \"\"\"\n",
    "    Оценивает точность модели по метрике «среднее отклонение от предсказанного значения».\n",
    "    \n",
    "    Аргументы:\n",
    "        model: Модель.\n",
    "        x_test: Список объектов тестовой выборки.\n",
    "        y_test: Список значений предсказываемой характеристики для объектов из тестовой выборки.\n",
    "                Значение на $i$-ой позиции в списке соответствует $i$-ому объекту тестовой выборки.\n",
    "        \n",
    "    Возвращаемое значение:\n",
    "        Точность модели.\n",
    "    \"\"\"\n",
    "    \n",
    "    y_pred = model.predict(x_test)\n",
    "    \n",
    "    res = 0\n",
    "\n",
    "    for i in range(len(y_test)):\n",
    "        res += abs(y_pred[i] - y_test[i])\n",
    "        \n",
    "    return res / len(y_test)"
   ]
  },
  {
   "cell_type": "code",
   "execution_count": null,
   "id": "554dcb23",
   "metadata": {},
   "outputs": [],
   "source": [
    "def unpack(l):\n",
    "    return [elem[0] for elem in l if type(elem)]\n",
    "\n",
    "def k_fold_solution(model, data_x, data_y, k, random_gen):\n",
    "    data_xy = list(zip(data_x, data_y))\n",
    "    random_gen.shuffle(data_xy)\n",
    "    unzipped = list(zip(*data_xy))\n",
    "    data_x, data_y = [*unzipped[0]], [*unzipped[1]]\n",
    "    chunks = split_into_k(data_x, k)\n",
    "    chunks_y = split_into_k(data_y, k)\n",
    "    scores = []\n",
    "    for i in range(k):\n",
    "        score_x = list(chunks[i])\n",
    "        score_y = list(chunks_y[i])\n",
    "        train_y = chunks_y[:i]+chunks_y[i+1:]\n",
    "        train_x = unpack(chunks[:i]+chunks[i+1:])\n",
    "        model.fit(train_x, train_y)\n",
    "        scores.append(round_to_3(score_model(model,score_x,score_y)))\n",
    "    return round_to_3(sum(scores)/k)"
   ]
  },
  {
   "cell_type": "code",
   "execution_count": null,
   "id": "33c77a3e",
   "metadata": {},
   "outputs": [],
   "source": [
    "def k_fold_test():\n",
    "    data_x_example_1 = [[1], [2], [3]]\n",
    "    data_y_example_1 = [1, 2, 3]\n",
    "    \n",
    "    assert k_fold_solution(LinearRegression(), \n",
    "                           data_x_example_1, data_y_example_1, 3, \n",
    "                           ShuffleOnceRandom(0)) == 0.0\n",
    "    \n",
    "    data_example_2 = pd.read_csv('k_fold_test_data.csv')\n",
    "    \n",
    "    data_x_example_2 = [[x] for x in list(data_example_2['x'])]\n",
    "    data_y_example_2 = list(data_example_2['y'])\n",
    "    \n",
    "    assert k_fold_solution(LinearRegression(), \n",
    "                           data_x_example_2, data_y_example_2, 100, \n",
    "                           ShuffleOnceRandom(0)) == 0.602\n",
    "    \n",
    "    print('Тест прошёл успешно!')"
   ]
  },
  {
   "cell_type": "code",
   "execution_count": null,
   "id": "daa2815d",
   "metadata": {},
   "outputs": [],
   "source": [
    "k_fold_test()"
   ]
  },
  {
   "cell_type": "markdown",
   "id": "c8f2b4bc",
   "metadata": {},
   "source": [
    "# Погрешность оценки качества"
   ]
  },
  {
   "cell_type": "code",
   "execution_count": null,
   "id": "9d46a1f4",
   "metadata": {},
   "outputs": [],
   "source": [
    "error_modeling_data = pd.read_csv('error_modelling.csv')"
   ]
  },
  {
   "cell_type": "code",
   "execution_count": null,
   "id": "e537c2ba",
   "metadata": {},
   "outputs": [],
   "source": [
    "y = list(error_modeling_data['y'])\n",
    "y_pred = list(error_modeling_data['y_pred'])"
   ]
  },
  {
   "cell_type": "code",
   "execution_count": null,
   "id": "cb22e73c",
   "metadata": {},
   "outputs": [],
   "source": [
    "y_and_y_pred = list(zip(y, y_pred))"
   ]
  },
  {
   "cell_type": "code",
   "execution_count": null,
   "id": "14162fe6",
   "metadata": {},
   "outputs": [],
   "source": [
    "error_modeling_random_gen = random.Random(0)\n",
    "\n",
    "errs = []\n",
    "\n",
    "for i in range(10_000):\n",
    "    # необходимо сгенерировать случайную выборку объектов исходного множества\n",
    "    # и оценить точность работы модели на этой выборке\n",
    "    \n",
    "    pass"
   ]
  },
  {
   "cell_type": "markdown",
   "id": "d3e21242",
   "metadata": {},
   "source": [
    "# Бутстрап"
   ]
  },
  {
   "cell_type": "code",
   "execution_count": null,
   "id": "5f2f8ca4",
   "metadata": {},
   "outputs": [],
   "source": [
    "def cut_on_edges(l, fraction_to_cut):\n",
    "    \"\"\"\n",
    "    Отбрасывает с левого и с правого концов переданного списка заданную долю элементов.\n",
    "    \n",
    "    Аргументы:\n",
    "        l: Список элементов.\n",
    "        fraction_to_cut: Доля элементов, которую нужно отбросить с каждой из сторон списка.\n",
    "        \n",
    "    Возвращаемое значение:\n",
    "        Новый список, в котором с левого и с правого концов отборешна заданная доля элементов.\n",
    "    \"\"\"\n",
    "    \n",
    "    to_cut = floor(len(l) * fraction_to_cut)\n",
    "    return l[to_cut:len(l) - to_cut]"
   ]
  },
  {
   "cell_type": "code",
   "execution_count": null,
   "id": "f5175d9a",
   "metadata": {},
   "outputs": [],
   "source": [
    "def bootstrap_confidence_interval_solution(y, y_pred, fraction_to_cut, random_gen):\n",
    "    \"\"\"\n",
    "    Вычисляет доверительный интервал для точности модели на тестовой выборке с помощью бутстрапа.\n",
    "    \n",
    "    Аргументы:\n",
    "        y: Реальные значения предсказываемой характеристики для объектов тестовой выборки.\n",
    "        y_pred: Предсказанные с помощью модели значения характеристики для объектов тестовой выборки.\n",
    "                $i$-ый элемент списка y_pred соответствует предсказанию моделью\n",
    "                значения под номером $i$ в списке y.\n",
    "        fraction_to_cut: Доля элементов, которую нужно отбросить с каждого из концов списка полученных с помощью\n",
    "                         бутстрапа значений перед получением доверительного интервала.\n",
    "        random_gen: Генератор случайных чисел.\n",
    "        \n",
    "    Возвращаемое значение:\n",
    "        Доверительный интервал для точности модели, оценённой по метрике\n",
    "        «среднее отклонение от предсказанного значения».\n",
    "        Представляется в виде пары значений: левая граница интервала, правая граница интервала.\n",
    "    \"\"\"\n",
    "    \n",
    "    pass"
   ]
  },
  {
   "cell_type": "code",
   "execution_count": null,
   "id": "91bf0e82",
   "metadata": {},
   "outputs": [],
   "source": [
    "def bootstrap_confidence_interval_test():\n",
    "    error_modeling_data = pd.read_csv('error_modelling.csv')\n",
    "    \n",
    "    y = list(error_modeling_data['y'])\n",
    "    y_pred = list(error_modeling_data['y_pred'])\n",
    "    \n",
    "    y_y_pred = list(zip(y, y_pred))\n",
    "    \n",
    "    random_gen = random.Random(0)\n",
    "    y_y_pred_example_1 = random_gen.sample(y_y_pred, 100)\n",
    "    \n",
    "    y_example_1 = [x[0] for x in y_y_pred_example_1]\n",
    "    y_pred_example_1 = [x[1] for x in y_y_pred_example_1]\n",
    "    random_gen_example_1 = ChoicesNRandom(0, n=10000)\n",
    "    \n",
    "    res_example_1 = 7.178, 13.509\n",
    "    \n",
    "    assert bootstrap_confidence_interval_solution(y_example_1, y_pred_example_1, 0.025, random_gen_example_1) == res_example_1\n",
    "    \n",
    "    print('Тест прошёл успешно!')"
   ]
  },
  {
   "cell_type": "code",
   "execution_count": null,
   "id": "528e8347",
   "metadata": {},
   "outputs": [],
   "source": [
    "bootstrap_confidence_interval_test()"
   ]
  }
 ],
 "metadata": {
  "kernelspec": {
   "display_name": "Python 3 (ipykernel)",
   "language": "python",
   "name": "python3"
  },
  "language_info": {
   "codemirror_mode": {
    "name": "ipython",
    "version": 3
   },
   "file_extension": ".py",
   "mimetype": "text/x-python",
   "name": "python",
   "nbconvert_exporter": "python",
   "pygments_lexer": "ipython3",
   "version": "3.9.0"
  }
 },
 "nbformat": 4,
 "nbformat_minor": 5
}
