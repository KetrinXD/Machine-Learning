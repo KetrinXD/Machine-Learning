{
 "cells": [
  {
   "cell_type": "code",
   "execution_count": null,
   "id": "11a56dd0",
   "metadata": {},
   "outputs": [],
   "source": [
    "from math import exp"
   ]
  },
  {
   "cell_type": "code",
   "execution_count": 6,
   "id": "6721df3e",
   "metadata": {},
   "outputs": [],
   "source": [
    "def round_to_2(x):\n",
    "    return round(x, 2)"
   ]
  },
  {
   "cell_type": "markdown",
   "id": "acc4402f",
   "metadata": {},
   "source": [
    "!pip install pandas"
   ]
  },
  {
   "cell_type": "markdown",
   "id": "ef2bf45f",
   "metadata": {
    "scrolled": true
   },
   "source": [
    "## Перцептрон"
   ]
  },
  {
   "cell_type": "code",
   "execution_count": 19,
   "id": "c5ce83eb",
   "metadata": {},
   "outputs": [],
   "source": [
    "def sign(x):\n",
    "    \n",
    "    if x > 0:\n",
    "        return 1\n",
    "    \n",
    "    return -1\n",
    "\n",
    "def sigmoid(x):\n",
    "    return round_to_2(1 / (1 + exp(-x)))\n",
    "\n",
    "def relu(x):\n",
    "    if x > 0:\n",
    "        return x\n",
    "    \n",
    "    return 0"
   ]
  },
  {
   "cell_type": "code",
   "execution_count": 32,
   "id": "056bdee9",
   "metadata": {
    "scrolled": true
   },
   "outputs": [],
   "source": [
    "def perceptron_classify_solution(ws, xs, f=sign):\n",
    "    ans = []\n",
    "    for x in xs:\n",
    "        if len(x)<2:\n",
    "            x.append(1)\n",
    "        ans.append(f(sum([ws[i]*x[i] for i in range(len(ws))])))\n",
    "    return ans\n",
    "        "
   ]
  },
  {
   "cell_type": "code",
   "execution_count": 26,
   "id": "32069b69",
   "metadata": {
    "scrolled": true
   },
   "outputs": [],
   "source": [
    "def avg_metriks(ys, _ys):\n",
    "    return sum([ys[i] - _ys[i] for i in range(len(ys))])/(2*len(ys))"
   ]
  },
  {
   "cell_type": "code",
   "execution_count": 33,
   "id": "687f4e5d",
   "metadata": {},
   "outputs": [],
   "source": [
    "\n",
    "def perceptron_train_solution(xs, ys, learning_rate=1, k=100):\n",
    "    current_k = 1\n",
    "    ws = [0] * 3\n",
    "    while current_k <= k:\n",
    "        _ys = perceptron_classify_solution(ws, xs)\n",
    "        if avg_metriks(ys, _ys) <= 0:\n",
    "            break\n",
    "        for i in range(len(_ys)):\n",
    "            for w in range(3):\n",
    "                ws[w] = ws[w] + learning_rate * (ys[i] - _ys[i]) * xs[i][w]\n",
    "                print(xs[i][w])\n",
    "        current_k += 1\n",
    "    return ws"
   ]
  },
  {
   "cell_type": "code",
   "execution_count": 28,
   "id": "65b89eba",
   "metadata": {},
   "outputs": [],
   "source": [
    "def perceptron_train_test():\n",
    "    example_1_xs = [\n",
    "        [5, -2],\n",
    "        [-2, -1],\n",
    "        [3, 4],\n",
    "        [-1, -2]\n",
    "    ]\n",
    "    example_1_ys = [1, -1, -1, 1]\n",
    "    \n",
    "    example_1_res = [8, -10, -2]\n",
    "    print(perceptron_train_solution(example_1_xs, example_1_ys))\n",
    "    \n",
    "    assert perceptron_train_solution(example_1_xs, example_1_ys) == example_1_res\n",
    "    \n",
    "    example_2_xs = [\n",
    "        [-5, 3, 9, -1],\n",
    "        [2, 42, -11, 17],\n",
    "        [-21, 7, 23, 8],\n",
    "        [24, -67, -24, 92]\n",
    "    ]\n",
    "    example_2_ys = [1, 1, -1, -1]\n",
    "    \n",
    "    example_2_res = [26, 112, -26, -218, -4]\n",
    "    \n",
    "    assert perceptron_train_solution(example_2_xs, example_2_ys) == example_2_res\n",
    "    \n",
    "    example_3_xs = [\n",
    "        [2, 3, 23, 2],\n",
    "        [-1, 4, -2, 32],\n",
    "        [23, -53, -11, 21],\n",
    "        [11, -29, -53, -23],\n",
    "        [-2, 9, 2, -3]\n",
    "    ]\n",
    "    example_3_ys = [-1, 1, 1, -1, -1]\n",
    "    \n",
    "    example_3_res = [18, -70, -16, 150, -4]\n",
    "    \n",
    "    assert perceptron_train_solution(example_3_xs, example_3_ys) == example_3_res\n",
    "    \n",
    "    print('Все тесты прошли успешно!')"
   ]
  },
  {
   "cell_type": "code",
   "execution_count": 34,
   "id": "f310e2a8",
   "metadata": {
    "scrolled": false
   },
   "outputs": [
    {
     "ename": "IndexError",
     "evalue": "list index out of range",
     "output_type": "error",
     "traceback": [
      "\u001b[1;31m---------------------------------------------------------------------------\u001b[0m",
      "\u001b[1;31mIndexError\u001b[0m                                Traceback (most recent call last)",
      "Cell \u001b[1;32mIn[34], line 1\u001b[0m\n\u001b[1;32m----> 1\u001b[0m \u001b[43mperceptron_train_test\u001b[49m\u001b[43m(\u001b[49m\u001b[43m)\u001b[49m\n",
      "Cell \u001b[1;32mIn[28], line 11\u001b[0m, in \u001b[0;36mperceptron_train_test\u001b[1;34m()\u001b[0m\n\u001b[0;32m      8\u001b[0m example_1_ys \u001b[38;5;241m=\u001b[39m [\u001b[38;5;241m1\u001b[39m, \u001b[38;5;241m-\u001b[39m\u001b[38;5;241m1\u001b[39m, \u001b[38;5;241m-\u001b[39m\u001b[38;5;241m1\u001b[39m, \u001b[38;5;241m1\u001b[39m]\n\u001b[0;32m     10\u001b[0m example_1_res \u001b[38;5;241m=\u001b[39m [\u001b[38;5;241m8\u001b[39m, \u001b[38;5;241m-\u001b[39m\u001b[38;5;241m10\u001b[39m, \u001b[38;5;241m-\u001b[39m\u001b[38;5;241m2\u001b[39m]\n\u001b[1;32m---> 11\u001b[0m \u001b[38;5;28mprint\u001b[39m(\u001b[43mperceptron_train_solution\u001b[49m\u001b[43m(\u001b[49m\u001b[43mexample_1_xs\u001b[49m\u001b[43m,\u001b[49m\u001b[43m \u001b[49m\u001b[43mexample_1_ys\u001b[49m\u001b[43m)\u001b[49m)\n\u001b[0;32m     13\u001b[0m \u001b[38;5;28;01massert\u001b[39;00m perceptron_train_solution(example_1_xs, example_1_ys) \u001b[38;5;241m==\u001b[39m example_1_res\n\u001b[0;32m     15\u001b[0m example_2_xs \u001b[38;5;241m=\u001b[39m [\n\u001b[0;32m     16\u001b[0m     [\u001b[38;5;241m-\u001b[39m\u001b[38;5;241m5\u001b[39m, \u001b[38;5;241m3\u001b[39m, \u001b[38;5;241m9\u001b[39m, \u001b[38;5;241m-\u001b[39m\u001b[38;5;241m1\u001b[39m],\n\u001b[0;32m     17\u001b[0m     [\u001b[38;5;241m2\u001b[39m, \u001b[38;5;241m42\u001b[39m, \u001b[38;5;241m-\u001b[39m\u001b[38;5;241m11\u001b[39m, \u001b[38;5;241m17\u001b[39m],\n\u001b[0;32m     18\u001b[0m     [\u001b[38;5;241m-\u001b[39m\u001b[38;5;241m21\u001b[39m, \u001b[38;5;241m7\u001b[39m, \u001b[38;5;241m23\u001b[39m, \u001b[38;5;241m8\u001b[39m],\n\u001b[0;32m     19\u001b[0m     [\u001b[38;5;241m24\u001b[39m, \u001b[38;5;241m-\u001b[39m\u001b[38;5;241m67\u001b[39m, \u001b[38;5;241m-\u001b[39m\u001b[38;5;241m24\u001b[39m, \u001b[38;5;241m92\u001b[39m]\n\u001b[0;32m     20\u001b[0m ]\n",
      "Cell \u001b[1;32mIn[33], line 5\u001b[0m, in \u001b[0;36mperceptron_train_solution\u001b[1;34m(xs, ys, learning_rate, k)\u001b[0m\n\u001b[0;32m      3\u001b[0m ws \u001b[38;5;241m=\u001b[39m [\u001b[38;5;241m0\u001b[39m] \u001b[38;5;241m*\u001b[39m \u001b[38;5;241m3\u001b[39m\n\u001b[0;32m      4\u001b[0m \u001b[38;5;28;01mwhile\u001b[39;00m current_k \u001b[38;5;241m<\u001b[39m\u001b[38;5;241m=\u001b[39m k:\n\u001b[1;32m----> 5\u001b[0m     _ys \u001b[38;5;241m=\u001b[39m \u001b[43mperceptron_classify_solution\u001b[49m\u001b[43m(\u001b[49m\u001b[43mws\u001b[49m\u001b[43m,\u001b[49m\u001b[43m \u001b[49m\u001b[43mxs\u001b[49m\u001b[43m)\u001b[49m\n\u001b[0;32m      6\u001b[0m     \u001b[38;5;28;01mif\u001b[39;00m avg_metriks(ys, _ys) \u001b[38;5;241m<\u001b[39m\u001b[38;5;241m=\u001b[39m \u001b[38;5;241m0\u001b[39m:\n\u001b[0;32m      7\u001b[0m         \u001b[38;5;28;01mbreak\u001b[39;00m\n",
      "Cell \u001b[1;32mIn[32], line 6\u001b[0m, in \u001b[0;36mperceptron_classify_solution\u001b[1;34m(ws, xs, f)\u001b[0m\n\u001b[0;32m      4\u001b[0m     \u001b[38;5;28;01mif\u001b[39;00m \u001b[38;5;28mlen\u001b[39m(x)\u001b[38;5;241m<\u001b[39m\u001b[38;5;241m2\u001b[39m:\n\u001b[0;32m      5\u001b[0m         x\u001b[38;5;241m.\u001b[39mappend(\u001b[38;5;241m1\u001b[39m)\n\u001b[1;32m----> 6\u001b[0m     ans\u001b[38;5;241m.\u001b[39mappend(f(\u001b[38;5;28msum\u001b[39m([ws[i]\u001b[38;5;241m*\u001b[39mx[i] \u001b[38;5;28;01mfor\u001b[39;00m i \u001b[38;5;129;01min\u001b[39;00m \u001b[38;5;28mrange\u001b[39m(\u001b[38;5;28mlen\u001b[39m(ws))])))\n\u001b[0;32m      7\u001b[0m \u001b[38;5;28;01mreturn\u001b[39;00m ans\n",
      "Cell \u001b[1;32mIn[32], line 6\u001b[0m, in \u001b[0;36m<listcomp>\u001b[1;34m(.0)\u001b[0m\n\u001b[0;32m      4\u001b[0m     \u001b[38;5;28;01mif\u001b[39;00m \u001b[38;5;28mlen\u001b[39m(x)\u001b[38;5;241m<\u001b[39m\u001b[38;5;241m2\u001b[39m:\n\u001b[0;32m      5\u001b[0m         x\u001b[38;5;241m.\u001b[39mappend(\u001b[38;5;241m1\u001b[39m)\n\u001b[1;32m----> 6\u001b[0m     ans\u001b[38;5;241m.\u001b[39mappend(f(\u001b[38;5;28msum\u001b[39m([ws[i]\u001b[38;5;241m*\u001b[39m\u001b[43mx\u001b[49m\u001b[43m[\u001b[49m\u001b[43mi\u001b[49m\u001b[43m]\u001b[49m \u001b[38;5;28;01mfor\u001b[39;00m i \u001b[38;5;129;01min\u001b[39;00m \u001b[38;5;28mrange\u001b[39m(\u001b[38;5;28mlen\u001b[39m(ws))])))\n\u001b[0;32m      7\u001b[0m \u001b[38;5;28;01mreturn\u001b[39;00m ans\n",
      "\u001b[1;31mIndexError\u001b[0m: list index out of range"
     ]
    }
   ],
   "source": [
    "    perceptron_train_test()"
   ]
  },
  {
   "cell_type": "markdown",
   "id": "8e970799",
   "metadata": {},
   "source": [
    "# Многослойный перцептрон"
   ]
  },
  {
   "cell_type": "code",
   "execution_count": 38,
   "id": "e0831650",
   "metadata": {},
   "outputs": [],
   "source": [
    "def perceptron_classify_solution(ws, xs, f=sign):\n",
    "    ans = []\n",
    "    for x in xs:\n",
    "        if len(x) == len(ws)-1:\n",
    "            x.append(1)\n",
    "        ans.append(f(sum([ws[i] * x[i] for i in range(len(ws))])))\n",
    "    return ans\n",
    "    \n",
    "def multilayer_perceptron_solution(wss, fs, x):\n",
    "    f = []\n",
    "    for index,ws in enumerate(wss):\n",
    "        f.append(perceptron_classify_solution(ws=ws,xs=x[index],f=fs[index]))\n",
    "    return f\n"
   ]
  },
  {
   "cell_type": "code",
   "execution_count": 39,
   "id": "81fe7c39",
   "metadata": {},
   "outputs": [],
   "source": [
    "def multilayer_perceptron_tests():\n",
    "    example_1_wss = [\n",
    "        [[1, -1, 5]],\n",
    "        [[2, 1],\n",
    "         [2, -3]],\n",
    "        [[1, -4, 1]]\n",
    "    ]\n",
    "\n",
    "    example_1_fs = [relu, relu, sigmoid]\n",
    "    example_1_x = [-1, 1]\n",
    "    \n",
    "    example_1_res = 0.02\n",
    "    \n",
    "    assert multilayer_perceptron_solution(example_1_wss, example_1_fs, example_1_x) == example_1_res\n",
    "    \n",
    "    example_2_wss = [\n",
    "        [[2, -3, 7], [-6, 5, 2]],\n",
    "        [[2, 2, 1]]\n",
    "    ]\n",
    "\n",
    "    example_2_fs = [relu, relu]\n",
    "    example_2_x = [-2, -2]\n",
    "    \n",
    "    example_2_res = 27\n",
    "    \n",
    "    assert multilayer_perceptron_solution(example_2_wss, example_2_fs, example_2_x) == example_2_res\n",
    "    \n",
    "    print('Все тесты прошли успешно!')"
   ]
  },
  {
   "cell_type": "code",
   "execution_count": 40,
   "id": "51e6f8a3",
   "metadata": {},
   "outputs": [
    {
     "ename": "TypeError",
     "evalue": "'int' object is not iterable",
     "output_type": "error",
     "traceback": [
      "\u001b[1;31m---------------------------------------------------------------------------\u001b[0m",
      "\u001b[1;31mTypeError\u001b[0m                                 Traceback (most recent call last)",
      "Cell \u001b[1;32mIn[40], line 1\u001b[0m\n\u001b[1;32m----> 1\u001b[0m \u001b[43mmultilayer_perceptron_tests\u001b[49m\u001b[43m(\u001b[49m\u001b[43m)\u001b[49m\n",
      "Cell \u001b[1;32mIn[39], line 14\u001b[0m, in \u001b[0;36mmultilayer_perceptron_tests\u001b[1;34m()\u001b[0m\n\u001b[0;32m     10\u001b[0m example_1_x \u001b[38;5;241m=\u001b[39m [\u001b[38;5;241m-\u001b[39m\u001b[38;5;241m1\u001b[39m, \u001b[38;5;241m1\u001b[39m]\n\u001b[0;32m     12\u001b[0m example_1_res \u001b[38;5;241m=\u001b[39m \u001b[38;5;241m0.02\u001b[39m\n\u001b[1;32m---> 14\u001b[0m \u001b[38;5;28;01massert\u001b[39;00m \u001b[43mmultilayer_perceptron_solution\u001b[49m\u001b[43m(\u001b[49m\u001b[43mexample_1_wss\u001b[49m\u001b[43m,\u001b[49m\u001b[43m \u001b[49m\u001b[43mexample_1_fs\u001b[49m\u001b[43m,\u001b[49m\u001b[43m \u001b[49m\u001b[43mexample_1_x\u001b[49m\u001b[43m)\u001b[49m \u001b[38;5;241m==\u001b[39m example_1_res\n\u001b[0;32m     16\u001b[0m example_2_wss \u001b[38;5;241m=\u001b[39m [\n\u001b[0;32m     17\u001b[0m     [[\u001b[38;5;241m2\u001b[39m, \u001b[38;5;241m-\u001b[39m\u001b[38;5;241m3\u001b[39m, \u001b[38;5;241m7\u001b[39m], [\u001b[38;5;241m-\u001b[39m\u001b[38;5;241m6\u001b[39m, \u001b[38;5;241m5\u001b[39m, \u001b[38;5;241m2\u001b[39m]],\n\u001b[0;32m     18\u001b[0m     [[\u001b[38;5;241m2\u001b[39m, \u001b[38;5;241m2\u001b[39m, \u001b[38;5;241m1\u001b[39m]]\n\u001b[0;32m     19\u001b[0m ]\n\u001b[0;32m     21\u001b[0m example_2_fs \u001b[38;5;241m=\u001b[39m [relu, relu]\n",
      "Cell \u001b[1;32mIn[38], line 12\u001b[0m, in \u001b[0;36mmultilayer_perceptron_solution\u001b[1;34m(wss, fs, x)\u001b[0m\n\u001b[0;32m     10\u001b[0m f \u001b[38;5;241m=\u001b[39m []\n\u001b[0;32m     11\u001b[0m \u001b[38;5;28;01mfor\u001b[39;00m index,ws \u001b[38;5;129;01min\u001b[39;00m \u001b[38;5;28menumerate\u001b[39m(wss):\n\u001b[1;32m---> 12\u001b[0m     f\u001b[38;5;241m.\u001b[39mappend(\u001b[43mperceptron_classify_solution\u001b[49m\u001b[43m(\u001b[49m\u001b[43mws\u001b[49m\u001b[38;5;241;43m=\u001b[39;49m\u001b[43mws\u001b[49m\u001b[43m,\u001b[49m\u001b[43mxs\u001b[49m\u001b[38;5;241;43m=\u001b[39;49m\u001b[43mx\u001b[49m\u001b[43m[\u001b[49m\u001b[43mindex\u001b[49m\u001b[43m]\u001b[49m\u001b[43m,\u001b[49m\u001b[43mf\u001b[49m\u001b[38;5;241;43m=\u001b[39;49m\u001b[43mfs\u001b[49m\u001b[43m[\u001b[49m\u001b[43mindex\u001b[49m\u001b[43m]\u001b[49m\u001b[43m)\u001b[49m)\n\u001b[0;32m     13\u001b[0m \u001b[38;5;28;01mreturn\u001b[39;00m f\n",
      "Cell \u001b[1;32mIn[38], line 3\u001b[0m, in \u001b[0;36mperceptron_classify_solution\u001b[1;34m(ws, xs, f)\u001b[0m\n\u001b[0;32m      1\u001b[0m \u001b[38;5;28;01mdef\u001b[39;00m \u001b[38;5;21mperceptron_classify_solution\u001b[39m(ws, xs, f\u001b[38;5;241m=\u001b[39msign):\n\u001b[0;32m      2\u001b[0m     ans \u001b[38;5;241m=\u001b[39m []\n\u001b[1;32m----> 3\u001b[0m     \u001b[38;5;28;01mfor\u001b[39;00m x \u001b[38;5;129;01min\u001b[39;00m xs:\n\u001b[0;32m      4\u001b[0m         \u001b[38;5;28;01mif\u001b[39;00m \u001b[38;5;28mlen\u001b[39m(x) \u001b[38;5;241m==\u001b[39m \u001b[38;5;28mlen\u001b[39m(ws)\u001b[38;5;241m-\u001b[39m\u001b[38;5;241m1\u001b[39m:\n\u001b[0;32m      5\u001b[0m             x\u001b[38;5;241m.\u001b[39mappend(\u001b[38;5;241m1\u001b[39m)\n",
      "\u001b[1;31mTypeError\u001b[0m: 'int' object is not iterable"
     ]
    }
   ],
   "source": [
    "multilayer_perceptron_tests()"
   ]
  },
  {
   "cell_type": "code",
   "execution_count": null,
   "id": "83225b74",
   "metadata": {},
   "outputs": [],
   "source": []
  }
 ],
 "metadata": {
  "kernelspec": {
   "display_name": "Python 3 (ipykernel)",
   "language": "python",
   "name": "python3"
  },
  "language_info": {
   "codemirror_mode": {
    "name": "ipython",
    "version": 3
   },
   "file_extension": ".py",
   "mimetype": "text/x-python",
   "name": "python",
   "nbconvert_exporter": "python",
   "pygments_lexer": "ipython3",
   "version": "3.9.0"
  }
 },
 "nbformat": 4,
 "nbformat_minor": 5
}
